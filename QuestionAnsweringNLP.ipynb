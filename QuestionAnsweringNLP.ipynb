{
  "nbformat": 4,
  "nbformat_minor": 0,
  "metadata": {
    "colab": {
      "name": "Question_Answering_NLP_V2.ipynb",
      "provenance": [],
      "collapsed_sections": []
    },
    "kernelspec": {
      "name": "python3",
      "display_name": "Python 3"
    },
    "language_info": {
      "name": "python"
    },
    "accelerator": "GPU",
    "widgets": {
      "application/vnd.jupyter.widget-state+json": {
        "54a412ae1ea0408ba95a828374c12941": {
          "model_module": "@jupyter-widgets/controls",
          "model_name": "HBoxModel",
          "model_module_version": "1.5.0",
          "state": {
            "_view_name": "HBoxView",
            "_dom_classes": [],
            "_model_name": "HBoxModel",
            "_view_module": "@jupyter-widgets/controls",
            "_model_module_version": "1.5.0",
            "_view_count": null,
            "_view_module_version": "1.5.0",
            "box_style": "",
            "layout": "IPY_MODEL_c136579f9b354fe98be2277fee988857",
            "_model_module": "@jupyter-widgets/controls",
            "children": [
              "IPY_MODEL_ba6df21ba8ca4e6cb2c9543aa35a159a",
              "IPY_MODEL_ac7ab96e502348508543dcb3d8967d70",
              "IPY_MODEL_7a006b7ed57441ec8402c33f476ea858"
            ]
          }
        },
        "c136579f9b354fe98be2277fee988857": {
          "model_module": "@jupyter-widgets/base",
          "model_name": "LayoutModel",
          "model_module_version": "1.2.0",
          "state": {
            "_view_name": "LayoutView",
            "grid_template_rows": null,
            "right": null,
            "justify_content": null,
            "_view_module": "@jupyter-widgets/base",
            "overflow": null,
            "_model_module_version": "1.2.0",
            "_view_count": null,
            "flex_flow": null,
            "width": null,
            "min_width": null,
            "border": null,
            "align_items": null,
            "bottom": null,
            "_model_module": "@jupyter-widgets/base",
            "top": null,
            "grid_column": null,
            "overflow_y": null,
            "overflow_x": null,
            "grid_auto_flow": null,
            "grid_area": null,
            "grid_template_columns": null,
            "flex": null,
            "_model_name": "LayoutModel",
            "justify_items": null,
            "grid_row": null,
            "max_height": null,
            "align_content": null,
            "visibility": null,
            "align_self": null,
            "height": null,
            "min_height": null,
            "padding": null,
            "grid_auto_rows": null,
            "grid_gap": null,
            "max_width": null,
            "order": null,
            "_view_module_version": "1.2.0",
            "grid_template_areas": null,
            "object_position": null,
            "object_fit": null,
            "grid_auto_columns": null,
            "margin": null,
            "display": null,
            "left": null
          }
        },
        "ba6df21ba8ca4e6cb2c9543aa35a159a": {
          "model_module": "@jupyter-widgets/controls",
          "model_name": "HTMLModel",
          "model_module_version": "1.5.0",
          "state": {
            "_view_name": "HTMLView",
            "style": "IPY_MODEL_3d79a488493e466498c31bed628efec9",
            "_dom_classes": [],
            "description": "",
            "_model_name": "HTMLModel",
            "placeholder": "​",
            "_view_module": "@jupyter-widgets/controls",
            "_model_module_version": "1.5.0",
            "value": "Downloading: 100%",
            "_view_count": null,
            "_view_module_version": "1.5.0",
            "description_tooltip": null,
            "_model_module": "@jupyter-widgets/controls",
            "layout": "IPY_MODEL_87749fefcbb1479bb1620faba43f0ab2"
          }
        },
        "ac7ab96e502348508543dcb3d8967d70": {
          "model_module": "@jupyter-widgets/controls",
          "model_name": "FloatProgressModel",
          "model_module_version": "1.5.0",
          "state": {
            "_view_name": "ProgressView",
            "style": "IPY_MODEL_a8c3946750974b9f8aff6c5f0fcfada6",
            "_dom_classes": [],
            "description": "",
            "_model_name": "FloatProgressModel",
            "bar_style": "success",
            "max": 267967963,
            "_view_module": "@jupyter-widgets/controls",
            "_model_module_version": "1.5.0",
            "value": 267967963,
            "_view_count": null,
            "_view_module_version": "1.5.0",
            "orientation": "horizontal",
            "min": 0,
            "description_tooltip": null,
            "_model_module": "@jupyter-widgets/controls",
            "layout": "IPY_MODEL_d1f07f0b61c04e1b9b4f8dfc6c605e4a"
          }
        },
        "7a006b7ed57441ec8402c33f476ea858": {
          "model_module": "@jupyter-widgets/controls",
          "model_name": "HTMLModel",
          "model_module_version": "1.5.0",
          "state": {
            "_view_name": "HTMLView",
            "style": "IPY_MODEL_78519685a71849b3a93ccd4e9fa0cc6f",
            "_dom_classes": [],
            "description": "",
            "_model_name": "HTMLModel",
            "placeholder": "​",
            "_view_module": "@jupyter-widgets/controls",
            "_model_module_version": "1.5.0",
            "value": " 268M/268M [00:08&lt;00:00, 30.1MB/s]",
            "_view_count": null,
            "_view_module_version": "1.5.0",
            "description_tooltip": null,
            "_model_module": "@jupyter-widgets/controls",
            "layout": "IPY_MODEL_147c259bca6446b68910465daa7b6255"
          }
        },
        "3d79a488493e466498c31bed628efec9": {
          "model_module": "@jupyter-widgets/controls",
          "model_name": "DescriptionStyleModel",
          "model_module_version": "1.5.0",
          "state": {
            "_view_name": "StyleView",
            "_model_name": "DescriptionStyleModel",
            "description_width": "",
            "_view_module": "@jupyter-widgets/base",
            "_model_module_version": "1.5.0",
            "_view_count": null,
            "_view_module_version": "1.2.0",
            "_model_module": "@jupyter-widgets/controls"
          }
        },
        "87749fefcbb1479bb1620faba43f0ab2": {
          "model_module": "@jupyter-widgets/base",
          "model_name": "LayoutModel",
          "model_module_version": "1.2.0",
          "state": {
            "_view_name": "LayoutView",
            "grid_template_rows": null,
            "right": null,
            "justify_content": null,
            "_view_module": "@jupyter-widgets/base",
            "overflow": null,
            "_model_module_version": "1.2.0",
            "_view_count": null,
            "flex_flow": null,
            "width": null,
            "min_width": null,
            "border": null,
            "align_items": null,
            "bottom": null,
            "_model_module": "@jupyter-widgets/base",
            "top": null,
            "grid_column": null,
            "overflow_y": null,
            "overflow_x": null,
            "grid_auto_flow": null,
            "grid_area": null,
            "grid_template_columns": null,
            "flex": null,
            "_model_name": "LayoutModel",
            "justify_items": null,
            "grid_row": null,
            "max_height": null,
            "align_content": null,
            "visibility": null,
            "align_self": null,
            "height": null,
            "min_height": null,
            "padding": null,
            "grid_auto_rows": null,
            "grid_gap": null,
            "max_width": null,
            "order": null,
            "_view_module_version": "1.2.0",
            "grid_template_areas": null,
            "object_position": null,
            "object_fit": null,
            "grid_auto_columns": null,
            "margin": null,
            "display": null,
            "left": null
          }
        },
        "a8c3946750974b9f8aff6c5f0fcfada6": {
          "model_module": "@jupyter-widgets/controls",
          "model_name": "ProgressStyleModel",
          "model_module_version": "1.5.0",
          "state": {
            "_view_name": "StyleView",
            "_model_name": "ProgressStyleModel",
            "description_width": "",
            "_view_module": "@jupyter-widgets/base",
            "_model_module_version": "1.5.0",
            "_view_count": null,
            "_view_module_version": "1.2.0",
            "bar_color": null,
            "_model_module": "@jupyter-widgets/controls"
          }
        },
        "d1f07f0b61c04e1b9b4f8dfc6c605e4a": {
          "model_module": "@jupyter-widgets/base",
          "model_name": "LayoutModel",
          "model_module_version": "1.2.0",
          "state": {
            "_view_name": "LayoutView",
            "grid_template_rows": null,
            "right": null,
            "justify_content": null,
            "_view_module": "@jupyter-widgets/base",
            "overflow": null,
            "_model_module_version": "1.2.0",
            "_view_count": null,
            "flex_flow": null,
            "width": null,
            "min_width": null,
            "border": null,
            "align_items": null,
            "bottom": null,
            "_model_module": "@jupyter-widgets/base",
            "top": null,
            "grid_column": null,
            "overflow_y": null,
            "overflow_x": null,
            "grid_auto_flow": null,
            "grid_area": null,
            "grid_template_columns": null,
            "flex": null,
            "_model_name": "LayoutModel",
            "justify_items": null,
            "grid_row": null,
            "max_height": null,
            "align_content": null,
            "visibility": null,
            "align_self": null,
            "height": null,
            "min_height": null,
            "padding": null,
            "grid_auto_rows": null,
            "grid_gap": null,
            "max_width": null,
            "order": null,
            "_view_module_version": "1.2.0",
            "grid_template_areas": null,
            "object_position": null,
            "object_fit": null,
            "grid_auto_columns": null,
            "margin": null,
            "display": null,
            "left": null
          }
        },
        "78519685a71849b3a93ccd4e9fa0cc6f": {
          "model_module": "@jupyter-widgets/controls",
          "model_name": "DescriptionStyleModel",
          "model_module_version": "1.5.0",
          "state": {
            "_view_name": "StyleView",
            "_model_name": "DescriptionStyleModel",
            "description_width": "",
            "_view_module": "@jupyter-widgets/base",
            "_model_module_version": "1.5.0",
            "_view_count": null,
            "_view_module_version": "1.2.0",
            "_model_module": "@jupyter-widgets/controls"
          }
        },
        "147c259bca6446b68910465daa7b6255": {
          "model_module": "@jupyter-widgets/base",
          "model_name": "LayoutModel",
          "model_module_version": "1.2.0",
          "state": {
            "_view_name": "LayoutView",
            "grid_template_rows": null,
            "right": null,
            "justify_content": null,
            "_view_module": "@jupyter-widgets/base",
            "overflow": null,
            "_model_module_version": "1.2.0",
            "_view_count": null,
            "flex_flow": null,
            "width": null,
            "min_width": null,
            "border": null,
            "align_items": null,
            "bottom": null,
            "_model_module": "@jupyter-widgets/base",
            "top": null,
            "grid_column": null,
            "overflow_y": null,
            "overflow_x": null,
            "grid_auto_flow": null,
            "grid_area": null,
            "grid_template_columns": null,
            "flex": null,
            "_model_name": "LayoutModel",
            "justify_items": null,
            "grid_row": null,
            "max_height": null,
            "align_content": null,
            "visibility": null,
            "align_self": null,
            "height": null,
            "min_height": null,
            "padding": null,
            "grid_auto_rows": null,
            "grid_gap": null,
            "max_width": null,
            "order": null,
            "_view_module_version": "1.2.0",
            "grid_template_areas": null,
            "object_position": null,
            "object_fit": null,
            "grid_auto_columns": null,
            "margin": null,
            "display": null,
            "left": null
          }
        },
        "5c1c41dc51de4032b9449b6c46434bfe": {
          "model_module": "@jupyter-widgets/controls",
          "model_name": "HBoxModel",
          "model_module_version": "1.5.0",
          "state": {
            "_view_name": "HBoxView",
            "_dom_classes": [],
            "_model_name": "HBoxModel",
            "_view_module": "@jupyter-widgets/controls",
            "_model_module_version": "1.5.0",
            "_view_count": null,
            "_view_module_version": "1.5.0",
            "box_style": "",
            "layout": "IPY_MODEL_c2d5f4ebd1ea494ca6fe2cb544a9aee5",
            "_model_module": "@jupyter-widgets/controls",
            "children": [
              "IPY_MODEL_8570935e8cae4551b7befc882e7255dc",
              "IPY_MODEL_fd0f6ba8dd034a599b1cf269a8c63edf",
              "IPY_MODEL_4746be7b79174eb69e6d4ba26eb21863"
            ]
          }
        },
        "c2d5f4ebd1ea494ca6fe2cb544a9aee5": {
          "model_module": "@jupyter-widgets/base",
          "model_name": "LayoutModel",
          "model_module_version": "1.2.0",
          "state": {
            "_view_name": "LayoutView",
            "grid_template_rows": null,
            "right": null,
            "justify_content": null,
            "_view_module": "@jupyter-widgets/base",
            "overflow": null,
            "_model_module_version": "1.2.0",
            "_view_count": null,
            "flex_flow": null,
            "width": null,
            "min_width": null,
            "border": null,
            "align_items": null,
            "bottom": null,
            "_model_module": "@jupyter-widgets/base",
            "top": null,
            "grid_column": null,
            "overflow_y": null,
            "overflow_x": null,
            "grid_auto_flow": null,
            "grid_area": null,
            "grid_template_columns": null,
            "flex": null,
            "_model_name": "LayoutModel",
            "justify_items": null,
            "grid_row": null,
            "max_height": null,
            "align_content": null,
            "visibility": null,
            "align_self": null,
            "height": null,
            "min_height": null,
            "padding": null,
            "grid_auto_rows": null,
            "grid_gap": null,
            "max_width": null,
            "order": null,
            "_view_module_version": "1.2.0",
            "grid_template_areas": null,
            "object_position": null,
            "object_fit": null,
            "grid_auto_columns": null,
            "margin": null,
            "display": null,
            "left": null
          }
        },
        "8570935e8cae4551b7befc882e7255dc": {
          "model_module": "@jupyter-widgets/controls",
          "model_name": "HTMLModel",
          "model_module_version": "1.5.0",
          "state": {
            "_view_name": "HTMLView",
            "style": "IPY_MODEL_36d4674b97b84f8ebb1d166affa5080d",
            "_dom_classes": [],
            "description": "",
            "_model_name": "HTMLModel",
            "placeholder": "​",
            "_view_module": "@jupyter-widgets/controls",
            "_model_module_version": "1.5.0",
            "value": "Downloading: 100%",
            "_view_count": null,
            "_view_module_version": "1.5.0",
            "description_tooltip": null,
            "_model_module": "@jupyter-widgets/controls",
            "layout": "IPY_MODEL_e2f9b2670f314337a4034a6e96881335"
          }
        },
        "fd0f6ba8dd034a599b1cf269a8c63edf": {
          "model_module": "@jupyter-widgets/controls",
          "model_name": "FloatProgressModel",
          "model_module_version": "1.5.0",
          "state": {
            "_view_name": "ProgressView",
            "style": "IPY_MODEL_6bc2d40e282e407383c57be319473f96",
            "_dom_classes": [],
            "description": "",
            "_model_name": "FloatProgressModel",
            "bar_style": "success",
            "max": 231508,
            "_view_module": "@jupyter-widgets/controls",
            "_model_module_version": "1.5.0",
            "value": 231508,
            "_view_count": null,
            "_view_module_version": "1.5.0",
            "orientation": "horizontal",
            "min": 0,
            "description_tooltip": null,
            "_model_module": "@jupyter-widgets/controls",
            "layout": "IPY_MODEL_07590e4cc4bd4ecaa81ab0fb9a19f3c9"
          }
        },
        "4746be7b79174eb69e6d4ba26eb21863": {
          "model_module": "@jupyter-widgets/controls",
          "model_name": "HTMLModel",
          "model_module_version": "1.5.0",
          "state": {
            "_view_name": "HTMLView",
            "style": "IPY_MODEL_2c3c54b4087c4e2992df19b48a299c03",
            "_dom_classes": [],
            "description": "",
            "_model_name": "HTMLModel",
            "placeholder": "​",
            "_view_module": "@jupyter-widgets/controls",
            "_model_module_version": "1.5.0",
            "value": " 232k/232k [00:00&lt;00:00, 347kB/s]",
            "_view_count": null,
            "_view_module_version": "1.5.0",
            "description_tooltip": null,
            "_model_module": "@jupyter-widgets/controls",
            "layout": "IPY_MODEL_ca573165f8bb41b2ac4a64930fb4cd52"
          }
        },
        "36d4674b97b84f8ebb1d166affa5080d": {
          "model_module": "@jupyter-widgets/controls",
          "model_name": "DescriptionStyleModel",
          "model_module_version": "1.5.0",
          "state": {
            "_view_name": "StyleView",
            "_model_name": "DescriptionStyleModel",
            "description_width": "",
            "_view_module": "@jupyter-widgets/base",
            "_model_module_version": "1.5.0",
            "_view_count": null,
            "_view_module_version": "1.2.0",
            "_model_module": "@jupyter-widgets/controls"
          }
        },
        "e2f9b2670f314337a4034a6e96881335": {
          "model_module": "@jupyter-widgets/base",
          "model_name": "LayoutModel",
          "model_module_version": "1.2.0",
          "state": {
            "_view_name": "LayoutView",
            "grid_template_rows": null,
            "right": null,
            "justify_content": null,
            "_view_module": "@jupyter-widgets/base",
            "overflow": null,
            "_model_module_version": "1.2.0",
            "_view_count": null,
            "flex_flow": null,
            "width": null,
            "min_width": null,
            "border": null,
            "align_items": null,
            "bottom": null,
            "_model_module": "@jupyter-widgets/base",
            "top": null,
            "grid_column": null,
            "overflow_y": null,
            "overflow_x": null,
            "grid_auto_flow": null,
            "grid_area": null,
            "grid_template_columns": null,
            "flex": null,
            "_model_name": "LayoutModel",
            "justify_items": null,
            "grid_row": null,
            "max_height": null,
            "align_content": null,
            "visibility": null,
            "align_self": null,
            "height": null,
            "min_height": null,
            "padding": null,
            "grid_auto_rows": null,
            "grid_gap": null,
            "max_width": null,
            "order": null,
            "_view_module_version": "1.2.0",
            "grid_template_areas": null,
            "object_position": null,
            "object_fit": null,
            "grid_auto_columns": null,
            "margin": null,
            "display": null,
            "left": null
          }
        },
        "6bc2d40e282e407383c57be319473f96": {
          "model_module": "@jupyter-widgets/controls",
          "model_name": "ProgressStyleModel",
          "model_module_version": "1.5.0",
          "state": {
            "_view_name": "StyleView",
            "_model_name": "ProgressStyleModel",
            "description_width": "",
            "_view_module": "@jupyter-widgets/base",
            "_model_module_version": "1.5.0",
            "_view_count": null,
            "_view_module_version": "1.2.0",
            "bar_color": null,
            "_model_module": "@jupyter-widgets/controls"
          }
        },
        "07590e4cc4bd4ecaa81ab0fb9a19f3c9": {
          "model_module": "@jupyter-widgets/base",
          "model_name": "LayoutModel",
          "model_module_version": "1.2.0",
          "state": {
            "_view_name": "LayoutView",
            "grid_template_rows": null,
            "right": null,
            "justify_content": null,
            "_view_module": "@jupyter-widgets/base",
            "overflow": null,
            "_model_module_version": "1.2.0",
            "_view_count": null,
            "flex_flow": null,
            "width": null,
            "min_width": null,
            "border": null,
            "align_items": null,
            "bottom": null,
            "_model_module": "@jupyter-widgets/base",
            "top": null,
            "grid_column": null,
            "overflow_y": null,
            "overflow_x": null,
            "grid_auto_flow": null,
            "grid_area": null,
            "grid_template_columns": null,
            "flex": null,
            "_model_name": "LayoutModel",
            "justify_items": null,
            "grid_row": null,
            "max_height": null,
            "align_content": null,
            "visibility": null,
            "align_self": null,
            "height": null,
            "min_height": null,
            "padding": null,
            "grid_auto_rows": null,
            "grid_gap": null,
            "max_width": null,
            "order": null,
            "_view_module_version": "1.2.0",
            "grid_template_areas": null,
            "object_position": null,
            "object_fit": null,
            "grid_auto_columns": null,
            "margin": null,
            "display": null,
            "left": null
          }
        },
        "2c3c54b4087c4e2992df19b48a299c03": {
          "model_module": "@jupyter-widgets/controls",
          "model_name": "DescriptionStyleModel",
          "model_module_version": "1.5.0",
          "state": {
            "_view_name": "StyleView",
            "_model_name": "DescriptionStyleModel",
            "description_width": "",
            "_view_module": "@jupyter-widgets/base",
            "_model_module_version": "1.5.0",
            "_view_count": null,
            "_view_module_version": "1.2.0",
            "_model_module": "@jupyter-widgets/controls"
          }
        },
        "ca573165f8bb41b2ac4a64930fb4cd52": {
          "model_module": "@jupyter-widgets/base",
          "model_name": "LayoutModel",
          "model_module_version": "1.2.0",
          "state": {
            "_view_name": "LayoutView",
            "grid_template_rows": null,
            "right": null,
            "justify_content": null,
            "_view_module": "@jupyter-widgets/base",
            "overflow": null,
            "_model_module_version": "1.2.0",
            "_view_count": null,
            "flex_flow": null,
            "width": null,
            "min_width": null,
            "border": null,
            "align_items": null,
            "bottom": null,
            "_model_module": "@jupyter-widgets/base",
            "top": null,
            "grid_column": null,
            "overflow_y": null,
            "overflow_x": null,
            "grid_auto_flow": null,
            "grid_area": null,
            "grid_template_columns": null,
            "flex": null,
            "_model_name": "LayoutModel",
            "justify_items": null,
            "grid_row": null,
            "max_height": null,
            "align_content": null,
            "visibility": null,
            "align_self": null,
            "height": null,
            "min_height": null,
            "padding": null,
            "grid_auto_rows": null,
            "grid_gap": null,
            "max_width": null,
            "order": null,
            "_view_module_version": "1.2.0",
            "grid_template_areas": null,
            "object_position": null,
            "object_fit": null,
            "grid_auto_columns": null,
            "margin": null,
            "display": null,
            "left": null
          }
        },
        "e46241c5cc734ea6b648999f19380f05": {
          "model_module": "@jupyter-widgets/controls",
          "model_name": "HBoxModel",
          "model_module_version": "1.5.0",
          "state": {
            "_view_name": "HBoxView",
            "_dom_classes": [],
            "_model_name": "HBoxModel",
            "_view_module": "@jupyter-widgets/controls",
            "_model_module_version": "1.5.0",
            "_view_count": null,
            "_view_module_version": "1.5.0",
            "box_style": "",
            "layout": "IPY_MODEL_0eb2ee6d921d4086b8da9f7694486448",
            "_model_module": "@jupyter-widgets/controls",
            "children": [
              "IPY_MODEL_abb8ad151307459a9eb86be276508018",
              "IPY_MODEL_213b832d89e2477d98aafdede5ba5e5b",
              "IPY_MODEL_d884daaaac9041229c78639202e83915"
            ]
          }
        },
        "0eb2ee6d921d4086b8da9f7694486448": {
          "model_module": "@jupyter-widgets/base",
          "model_name": "LayoutModel",
          "model_module_version": "1.2.0",
          "state": {
            "_view_name": "LayoutView",
            "grid_template_rows": null,
            "right": null,
            "justify_content": null,
            "_view_module": "@jupyter-widgets/base",
            "overflow": null,
            "_model_module_version": "1.2.0",
            "_view_count": null,
            "flex_flow": null,
            "width": null,
            "min_width": null,
            "border": null,
            "align_items": null,
            "bottom": null,
            "_model_module": "@jupyter-widgets/base",
            "top": null,
            "grid_column": null,
            "overflow_y": null,
            "overflow_x": null,
            "grid_auto_flow": null,
            "grid_area": null,
            "grid_template_columns": null,
            "flex": null,
            "_model_name": "LayoutModel",
            "justify_items": null,
            "grid_row": null,
            "max_height": null,
            "align_content": null,
            "visibility": null,
            "align_self": null,
            "height": null,
            "min_height": null,
            "padding": null,
            "grid_auto_rows": null,
            "grid_gap": null,
            "max_width": null,
            "order": null,
            "_view_module_version": "1.2.0",
            "grid_template_areas": null,
            "object_position": null,
            "object_fit": null,
            "grid_auto_columns": null,
            "margin": null,
            "display": null,
            "left": null
          }
        },
        "abb8ad151307459a9eb86be276508018": {
          "model_module": "@jupyter-widgets/controls",
          "model_name": "HTMLModel",
          "model_module_version": "1.5.0",
          "state": {
            "_view_name": "HTMLView",
            "style": "IPY_MODEL_b2780ac0f88c432ea8c85df7b780e127",
            "_dom_classes": [],
            "description": "",
            "_model_name": "HTMLModel",
            "placeholder": "​",
            "_view_module": "@jupyter-widgets/controls",
            "_model_module_version": "1.5.0",
            "value": "Downloading: 100%",
            "_view_count": null,
            "_view_module_version": "1.5.0",
            "description_tooltip": null,
            "_model_module": "@jupyter-widgets/controls",
            "layout": "IPY_MODEL_804c9410a7e54080a52002adad26f64d"
          }
        },
        "213b832d89e2477d98aafdede5ba5e5b": {
          "model_module": "@jupyter-widgets/controls",
          "model_name": "FloatProgressModel",
          "model_module_version": "1.5.0",
          "state": {
            "_view_name": "ProgressView",
            "style": "IPY_MODEL_57d2e03249c54b208052a53fba3c3d38",
            "_dom_classes": [],
            "description": "",
            "_model_name": "FloatProgressModel",
            "bar_style": "success",
            "max": 28,
            "_view_module": "@jupyter-widgets/controls",
            "_model_module_version": "1.5.0",
            "value": 28,
            "_view_count": null,
            "_view_module_version": "1.5.0",
            "orientation": "horizontal",
            "min": 0,
            "description_tooltip": null,
            "_model_module": "@jupyter-widgets/controls",
            "layout": "IPY_MODEL_ff7b0378fa4a4775b98163df580b804e"
          }
        },
        "d884daaaac9041229c78639202e83915": {
          "model_module": "@jupyter-widgets/controls",
          "model_name": "HTMLModel",
          "model_module_version": "1.5.0",
          "state": {
            "_view_name": "HTMLView",
            "style": "IPY_MODEL_bd050ac4ca1c49699fe5c82fde37840d",
            "_dom_classes": [],
            "description": "",
            "_model_name": "HTMLModel",
            "placeholder": "​",
            "_view_module": "@jupyter-widgets/controls",
            "_model_module_version": "1.5.0",
            "value": " 28.0/28.0 [00:00&lt;00:00, 674B/s]",
            "_view_count": null,
            "_view_module_version": "1.5.0",
            "description_tooltip": null,
            "_model_module": "@jupyter-widgets/controls",
            "layout": "IPY_MODEL_a1c0bed345ee486db32ca940b95eb868"
          }
        },
        "b2780ac0f88c432ea8c85df7b780e127": {
          "model_module": "@jupyter-widgets/controls",
          "model_name": "DescriptionStyleModel",
          "model_module_version": "1.5.0",
          "state": {
            "_view_name": "StyleView",
            "_model_name": "DescriptionStyleModel",
            "description_width": "",
            "_view_module": "@jupyter-widgets/base",
            "_model_module_version": "1.5.0",
            "_view_count": null,
            "_view_module_version": "1.2.0",
            "_model_module": "@jupyter-widgets/controls"
          }
        },
        "804c9410a7e54080a52002adad26f64d": {
          "model_module": "@jupyter-widgets/base",
          "model_name": "LayoutModel",
          "model_module_version": "1.2.0",
          "state": {
            "_view_name": "LayoutView",
            "grid_template_rows": null,
            "right": null,
            "justify_content": null,
            "_view_module": "@jupyter-widgets/base",
            "overflow": null,
            "_model_module_version": "1.2.0",
            "_view_count": null,
            "flex_flow": null,
            "width": null,
            "min_width": null,
            "border": null,
            "align_items": null,
            "bottom": null,
            "_model_module": "@jupyter-widgets/base",
            "top": null,
            "grid_column": null,
            "overflow_y": null,
            "overflow_x": null,
            "grid_auto_flow": null,
            "grid_area": null,
            "grid_template_columns": null,
            "flex": null,
            "_model_name": "LayoutModel",
            "justify_items": null,
            "grid_row": null,
            "max_height": null,
            "align_content": null,
            "visibility": null,
            "align_self": null,
            "height": null,
            "min_height": null,
            "padding": null,
            "grid_auto_rows": null,
            "grid_gap": null,
            "max_width": null,
            "order": null,
            "_view_module_version": "1.2.0",
            "grid_template_areas": null,
            "object_position": null,
            "object_fit": null,
            "grid_auto_columns": null,
            "margin": null,
            "display": null,
            "left": null
          }
        },
        "57d2e03249c54b208052a53fba3c3d38": {
          "model_module": "@jupyter-widgets/controls",
          "model_name": "ProgressStyleModel",
          "model_module_version": "1.5.0",
          "state": {
            "_view_name": "StyleView",
            "_model_name": "ProgressStyleModel",
            "description_width": "",
            "_view_module": "@jupyter-widgets/base",
            "_model_module_version": "1.5.0",
            "_view_count": null,
            "_view_module_version": "1.2.0",
            "bar_color": null,
            "_model_module": "@jupyter-widgets/controls"
          }
        },
        "ff7b0378fa4a4775b98163df580b804e": {
          "model_module": "@jupyter-widgets/base",
          "model_name": "LayoutModel",
          "model_module_version": "1.2.0",
          "state": {
            "_view_name": "LayoutView",
            "grid_template_rows": null,
            "right": null,
            "justify_content": null,
            "_view_module": "@jupyter-widgets/base",
            "overflow": null,
            "_model_module_version": "1.2.0",
            "_view_count": null,
            "flex_flow": null,
            "width": null,
            "min_width": null,
            "border": null,
            "align_items": null,
            "bottom": null,
            "_model_module": "@jupyter-widgets/base",
            "top": null,
            "grid_column": null,
            "overflow_y": null,
            "overflow_x": null,
            "grid_auto_flow": null,
            "grid_area": null,
            "grid_template_columns": null,
            "flex": null,
            "_model_name": "LayoutModel",
            "justify_items": null,
            "grid_row": null,
            "max_height": null,
            "align_content": null,
            "visibility": null,
            "align_self": null,
            "height": null,
            "min_height": null,
            "padding": null,
            "grid_auto_rows": null,
            "grid_gap": null,
            "max_width": null,
            "order": null,
            "_view_module_version": "1.2.0",
            "grid_template_areas": null,
            "object_position": null,
            "object_fit": null,
            "grid_auto_columns": null,
            "margin": null,
            "display": null,
            "left": null
          }
        },
        "bd050ac4ca1c49699fe5c82fde37840d": {
          "model_module": "@jupyter-widgets/controls",
          "model_name": "DescriptionStyleModel",
          "model_module_version": "1.5.0",
          "state": {
            "_view_name": "StyleView",
            "_model_name": "DescriptionStyleModel",
            "description_width": "",
            "_view_module": "@jupyter-widgets/base",
            "_model_module_version": "1.5.0",
            "_view_count": null,
            "_view_module_version": "1.2.0",
            "_model_module": "@jupyter-widgets/controls"
          }
        },
        "a1c0bed345ee486db32ca940b95eb868": {
          "model_module": "@jupyter-widgets/base",
          "model_name": "LayoutModel",
          "model_module_version": "1.2.0",
          "state": {
            "_view_name": "LayoutView",
            "grid_template_rows": null,
            "right": null,
            "justify_content": null,
            "_view_module": "@jupyter-widgets/base",
            "overflow": null,
            "_model_module_version": "1.2.0",
            "_view_count": null,
            "flex_flow": null,
            "width": null,
            "min_width": null,
            "border": null,
            "align_items": null,
            "bottom": null,
            "_model_module": "@jupyter-widgets/base",
            "top": null,
            "grid_column": null,
            "overflow_y": null,
            "overflow_x": null,
            "grid_auto_flow": null,
            "grid_area": null,
            "grid_template_columns": null,
            "flex": null,
            "_model_name": "LayoutModel",
            "justify_items": null,
            "grid_row": null,
            "max_height": null,
            "align_content": null,
            "visibility": null,
            "align_self": null,
            "height": null,
            "min_height": null,
            "padding": null,
            "grid_auto_rows": null,
            "grid_gap": null,
            "max_width": null,
            "order": null,
            "_view_module_version": "1.2.0",
            "grid_template_areas": null,
            "object_position": null,
            "object_fit": null,
            "grid_auto_columns": null,
            "margin": null,
            "display": null,
            "left": null
          }
        },
        "2c6ffc97299949dab88d5cb909d28dd9": {
          "model_module": "@jupyter-widgets/controls",
          "model_name": "HBoxModel",
          "model_module_version": "1.5.0",
          "state": {
            "_view_name": "HBoxView",
            "_dom_classes": [],
            "_model_name": "HBoxModel",
            "_view_module": "@jupyter-widgets/controls",
            "_model_module_version": "1.5.0",
            "_view_count": null,
            "_view_module_version": "1.5.0",
            "box_style": "",
            "layout": "IPY_MODEL_9215428e816e4229b287821cb3130128",
            "_model_module": "@jupyter-widgets/controls",
            "children": [
              "IPY_MODEL_ac282806c9384d5e9d1f09deab19a43d",
              "IPY_MODEL_d71924462c2d4aa382a7ddc7143222b9",
              "IPY_MODEL_6d6d4c2bb516446fba22618a48e951d8"
            ]
          }
        },
        "9215428e816e4229b287821cb3130128": {
          "model_module": "@jupyter-widgets/base",
          "model_name": "LayoutModel",
          "model_module_version": "1.2.0",
          "state": {
            "_view_name": "LayoutView",
            "grid_template_rows": null,
            "right": null,
            "justify_content": null,
            "_view_module": "@jupyter-widgets/base",
            "overflow": null,
            "_model_module_version": "1.2.0",
            "_view_count": null,
            "flex_flow": null,
            "width": null,
            "min_width": null,
            "border": null,
            "align_items": null,
            "bottom": null,
            "_model_module": "@jupyter-widgets/base",
            "top": null,
            "grid_column": null,
            "overflow_y": null,
            "overflow_x": null,
            "grid_auto_flow": null,
            "grid_area": null,
            "grid_template_columns": null,
            "flex": null,
            "_model_name": "LayoutModel",
            "justify_items": null,
            "grid_row": null,
            "max_height": null,
            "align_content": null,
            "visibility": null,
            "align_self": null,
            "height": null,
            "min_height": null,
            "padding": null,
            "grid_auto_rows": null,
            "grid_gap": null,
            "max_width": null,
            "order": null,
            "_view_module_version": "1.2.0",
            "grid_template_areas": null,
            "object_position": null,
            "object_fit": null,
            "grid_auto_columns": null,
            "margin": null,
            "display": null,
            "left": null
          }
        },
        "ac282806c9384d5e9d1f09deab19a43d": {
          "model_module": "@jupyter-widgets/controls",
          "model_name": "HTMLModel",
          "model_module_version": "1.5.0",
          "state": {
            "_view_name": "HTMLView",
            "style": "IPY_MODEL_4b4cae365dd44b18bc4a36fe099d8f5d",
            "_dom_classes": [],
            "description": "",
            "_model_name": "HTMLModel",
            "placeholder": "​",
            "_view_module": "@jupyter-widgets/controls",
            "_model_module_version": "1.5.0",
            "value": "Downloading: 100%",
            "_view_count": null,
            "_view_module_version": "1.5.0",
            "description_tooltip": null,
            "_model_module": "@jupyter-widgets/controls",
            "layout": "IPY_MODEL_9ff24307e65e4ccf974c482503a52a08"
          }
        },
        "d71924462c2d4aa382a7ddc7143222b9": {
          "model_module": "@jupyter-widgets/controls",
          "model_name": "FloatProgressModel",
          "model_module_version": "1.5.0",
          "state": {
            "_view_name": "ProgressView",
            "style": "IPY_MODEL_2e453d7c559b4ddc81d1854ba7f172ea",
            "_dom_classes": [],
            "description": "",
            "_model_name": "FloatProgressModel",
            "bar_style": "success",
            "max": 466062,
            "_view_module": "@jupyter-widgets/controls",
            "_model_module_version": "1.5.0",
            "value": 466062,
            "_view_count": null,
            "_view_module_version": "1.5.0",
            "orientation": "horizontal",
            "min": 0,
            "description_tooltip": null,
            "_model_module": "@jupyter-widgets/controls",
            "layout": "IPY_MODEL_1ea5c9a083b64837935da4e41b76fdd5"
          }
        },
        "6d6d4c2bb516446fba22618a48e951d8": {
          "model_module": "@jupyter-widgets/controls",
          "model_name": "HTMLModel",
          "model_module_version": "1.5.0",
          "state": {
            "_view_name": "HTMLView",
            "style": "IPY_MODEL_6e80916c65ad48b9aeb4422e7796a921",
            "_dom_classes": [],
            "description": "",
            "_model_name": "HTMLModel",
            "placeholder": "​",
            "_view_module": "@jupyter-widgets/controls",
            "_model_module_version": "1.5.0",
            "value": " 466k/466k [00:00&lt;00:00, 625kB/s]",
            "_view_count": null,
            "_view_module_version": "1.5.0",
            "description_tooltip": null,
            "_model_module": "@jupyter-widgets/controls",
            "layout": "IPY_MODEL_90335f37202a4a5ea5c880f132a6a162"
          }
        },
        "4b4cae365dd44b18bc4a36fe099d8f5d": {
          "model_module": "@jupyter-widgets/controls",
          "model_name": "DescriptionStyleModel",
          "model_module_version": "1.5.0",
          "state": {
            "_view_name": "StyleView",
            "_model_name": "DescriptionStyleModel",
            "description_width": "",
            "_view_module": "@jupyter-widgets/base",
            "_model_module_version": "1.5.0",
            "_view_count": null,
            "_view_module_version": "1.2.0",
            "_model_module": "@jupyter-widgets/controls"
          }
        },
        "9ff24307e65e4ccf974c482503a52a08": {
          "model_module": "@jupyter-widgets/base",
          "model_name": "LayoutModel",
          "model_module_version": "1.2.0",
          "state": {
            "_view_name": "LayoutView",
            "grid_template_rows": null,
            "right": null,
            "justify_content": null,
            "_view_module": "@jupyter-widgets/base",
            "overflow": null,
            "_model_module_version": "1.2.0",
            "_view_count": null,
            "flex_flow": null,
            "width": null,
            "min_width": null,
            "border": null,
            "align_items": null,
            "bottom": null,
            "_model_module": "@jupyter-widgets/base",
            "top": null,
            "grid_column": null,
            "overflow_y": null,
            "overflow_x": null,
            "grid_auto_flow": null,
            "grid_area": null,
            "grid_template_columns": null,
            "flex": null,
            "_model_name": "LayoutModel",
            "justify_items": null,
            "grid_row": null,
            "max_height": null,
            "align_content": null,
            "visibility": null,
            "align_self": null,
            "height": null,
            "min_height": null,
            "padding": null,
            "grid_auto_rows": null,
            "grid_gap": null,
            "max_width": null,
            "order": null,
            "_view_module_version": "1.2.0",
            "grid_template_areas": null,
            "object_position": null,
            "object_fit": null,
            "grid_auto_columns": null,
            "margin": null,
            "display": null,
            "left": null
          }
        },
        "2e453d7c559b4ddc81d1854ba7f172ea": {
          "model_module": "@jupyter-widgets/controls",
          "model_name": "ProgressStyleModel",
          "model_module_version": "1.5.0",
          "state": {
            "_view_name": "StyleView",
            "_model_name": "ProgressStyleModel",
            "description_width": "",
            "_view_module": "@jupyter-widgets/base",
            "_model_module_version": "1.5.0",
            "_view_count": null,
            "_view_module_version": "1.2.0",
            "bar_color": null,
            "_model_module": "@jupyter-widgets/controls"
          }
        },
        "1ea5c9a083b64837935da4e41b76fdd5": {
          "model_module": "@jupyter-widgets/base",
          "model_name": "LayoutModel",
          "model_module_version": "1.2.0",
          "state": {
            "_view_name": "LayoutView",
            "grid_template_rows": null,
            "right": null,
            "justify_content": null,
            "_view_module": "@jupyter-widgets/base",
            "overflow": null,
            "_model_module_version": "1.2.0",
            "_view_count": null,
            "flex_flow": null,
            "width": null,
            "min_width": null,
            "border": null,
            "align_items": null,
            "bottom": null,
            "_model_module": "@jupyter-widgets/base",
            "top": null,
            "grid_column": null,
            "overflow_y": null,
            "overflow_x": null,
            "grid_auto_flow": null,
            "grid_area": null,
            "grid_template_columns": null,
            "flex": null,
            "_model_name": "LayoutModel",
            "justify_items": null,
            "grid_row": null,
            "max_height": null,
            "align_content": null,
            "visibility": null,
            "align_self": null,
            "height": null,
            "min_height": null,
            "padding": null,
            "grid_auto_rows": null,
            "grid_gap": null,
            "max_width": null,
            "order": null,
            "_view_module_version": "1.2.0",
            "grid_template_areas": null,
            "object_position": null,
            "object_fit": null,
            "grid_auto_columns": null,
            "margin": null,
            "display": null,
            "left": null
          }
        },
        "6e80916c65ad48b9aeb4422e7796a921": {
          "model_module": "@jupyter-widgets/controls",
          "model_name": "DescriptionStyleModel",
          "model_module_version": "1.5.0",
          "state": {
            "_view_name": "StyleView",
            "_model_name": "DescriptionStyleModel",
            "description_width": "",
            "_view_module": "@jupyter-widgets/base",
            "_model_module_version": "1.5.0",
            "_view_count": null,
            "_view_module_version": "1.2.0",
            "_model_module": "@jupyter-widgets/controls"
          }
        },
        "90335f37202a4a5ea5c880f132a6a162": {
          "model_module": "@jupyter-widgets/base",
          "model_name": "LayoutModel",
          "model_module_version": "1.2.0",
          "state": {
            "_view_name": "LayoutView",
            "grid_template_rows": null,
            "right": null,
            "justify_content": null,
            "_view_module": "@jupyter-widgets/base",
            "overflow": null,
            "_model_module_version": "1.2.0",
            "_view_count": null,
            "flex_flow": null,
            "width": null,
            "min_width": null,
            "border": null,
            "align_items": null,
            "bottom": null,
            "_model_module": "@jupyter-widgets/base",
            "top": null,
            "grid_column": null,
            "overflow_y": null,
            "overflow_x": null,
            "grid_auto_flow": null,
            "grid_area": null,
            "grid_template_columns": null,
            "flex": null,
            "_model_name": "LayoutModel",
            "justify_items": null,
            "grid_row": null,
            "max_height": null,
            "align_content": null,
            "visibility": null,
            "align_self": null,
            "height": null,
            "min_height": null,
            "padding": null,
            "grid_auto_rows": null,
            "grid_gap": null,
            "max_width": null,
            "order": null,
            "_view_module_version": "1.2.0",
            "grid_template_areas": null,
            "object_position": null,
            "object_fit": null,
            "grid_auto_columns": null,
            "margin": null,
            "display": null,
            "left": null
          }
        },
        "3ad2b686dfb746728edf075e67353e30": {
          "model_module": "@jupyter-widgets/controls",
          "model_name": "HBoxModel",
          "model_module_version": "1.5.0",
          "state": {
            "_view_name": "HBoxView",
            "_dom_classes": [],
            "_model_name": "HBoxModel",
            "_view_module": "@jupyter-widgets/controls",
            "_model_module_version": "1.5.0",
            "_view_count": null,
            "_view_module_version": "1.5.0",
            "box_style": "",
            "layout": "IPY_MODEL_d6cc0167d65444ed9fa2a0055f7e4731",
            "_model_module": "@jupyter-widgets/controls",
            "children": [
              "IPY_MODEL_3d6e4aa062074ce6abb90122d609abc9",
              "IPY_MODEL_9026260a545e4ca4ab58569247a8c321",
              "IPY_MODEL_649d83c38f2a4a6eaa38a52c48455755"
            ]
          }
        },
        "d6cc0167d65444ed9fa2a0055f7e4731": {
          "model_module": "@jupyter-widgets/base",
          "model_name": "LayoutModel",
          "model_module_version": "1.2.0",
          "state": {
            "_view_name": "LayoutView",
            "grid_template_rows": null,
            "right": null,
            "justify_content": null,
            "_view_module": "@jupyter-widgets/base",
            "overflow": null,
            "_model_module_version": "1.2.0",
            "_view_count": null,
            "flex_flow": null,
            "width": null,
            "min_width": null,
            "border": null,
            "align_items": null,
            "bottom": null,
            "_model_module": "@jupyter-widgets/base",
            "top": null,
            "grid_column": null,
            "overflow_y": null,
            "overflow_x": null,
            "grid_auto_flow": null,
            "grid_area": null,
            "grid_template_columns": null,
            "flex": null,
            "_model_name": "LayoutModel",
            "justify_items": null,
            "grid_row": null,
            "max_height": null,
            "align_content": null,
            "visibility": null,
            "align_self": null,
            "height": null,
            "min_height": null,
            "padding": null,
            "grid_auto_rows": null,
            "grid_gap": null,
            "max_width": null,
            "order": null,
            "_view_module_version": "1.2.0",
            "grid_template_areas": null,
            "object_position": null,
            "object_fit": null,
            "grid_auto_columns": null,
            "margin": null,
            "display": null,
            "left": null
          }
        },
        "3d6e4aa062074ce6abb90122d609abc9": {
          "model_module": "@jupyter-widgets/controls",
          "model_name": "HTMLModel",
          "model_module_version": "1.5.0",
          "state": {
            "_view_name": "HTMLView",
            "style": "IPY_MODEL_7a5456cae8fb42e1ae99044e3d179102",
            "_dom_classes": [],
            "description": "",
            "_model_name": "HTMLModel",
            "placeholder": "​",
            "_view_module": "@jupyter-widgets/controls",
            "_model_module_version": "1.5.0",
            "value": "Downloading: 100%",
            "_view_count": null,
            "_view_module_version": "1.5.0",
            "description_tooltip": null,
            "_model_module": "@jupyter-widgets/controls",
            "layout": "IPY_MODEL_6be3fd4992dc48b6a07f17a3df7546c6"
          }
        },
        "9026260a545e4ca4ab58569247a8c321": {
          "model_module": "@jupyter-widgets/controls",
          "model_name": "FloatProgressModel",
          "model_module_version": "1.5.0",
          "state": {
            "_view_name": "ProgressView",
            "style": "IPY_MODEL_86573e98c07546cba1e0cc3bb8969921",
            "_dom_classes": [],
            "description": "",
            "_model_name": "FloatProgressModel",
            "bar_style": "success",
            "max": 570,
            "_view_module": "@jupyter-widgets/controls",
            "_model_module_version": "1.5.0",
            "value": 570,
            "_view_count": null,
            "_view_module_version": "1.5.0",
            "orientation": "horizontal",
            "min": 0,
            "description_tooltip": null,
            "_model_module": "@jupyter-widgets/controls",
            "layout": "IPY_MODEL_abfcd46b9b6446ef94ccd64af1b5f626"
          }
        },
        "649d83c38f2a4a6eaa38a52c48455755": {
          "model_module": "@jupyter-widgets/controls",
          "model_name": "HTMLModel",
          "model_module_version": "1.5.0",
          "state": {
            "_view_name": "HTMLView",
            "style": "IPY_MODEL_89c227311421410c8ffbb6fbb80b6da1",
            "_dom_classes": [],
            "description": "",
            "_model_name": "HTMLModel",
            "placeholder": "​",
            "_view_module": "@jupyter-widgets/controls",
            "_model_module_version": "1.5.0",
            "value": " 570/570 [00:00&lt;00:00, 14.8kB/s]",
            "_view_count": null,
            "_view_module_version": "1.5.0",
            "description_tooltip": null,
            "_model_module": "@jupyter-widgets/controls",
            "layout": "IPY_MODEL_ee836fca476b4d16b15de9af551b48b2"
          }
        },
        "7a5456cae8fb42e1ae99044e3d179102": {
          "model_module": "@jupyter-widgets/controls",
          "model_name": "DescriptionStyleModel",
          "model_module_version": "1.5.0",
          "state": {
            "_view_name": "StyleView",
            "_model_name": "DescriptionStyleModel",
            "description_width": "",
            "_view_module": "@jupyter-widgets/base",
            "_model_module_version": "1.5.0",
            "_view_count": null,
            "_view_module_version": "1.2.0",
            "_model_module": "@jupyter-widgets/controls"
          }
        },
        "6be3fd4992dc48b6a07f17a3df7546c6": {
          "model_module": "@jupyter-widgets/base",
          "model_name": "LayoutModel",
          "model_module_version": "1.2.0",
          "state": {
            "_view_name": "LayoutView",
            "grid_template_rows": null,
            "right": null,
            "justify_content": null,
            "_view_module": "@jupyter-widgets/base",
            "overflow": null,
            "_model_module_version": "1.2.0",
            "_view_count": null,
            "flex_flow": null,
            "width": null,
            "min_width": null,
            "border": null,
            "align_items": null,
            "bottom": null,
            "_model_module": "@jupyter-widgets/base",
            "top": null,
            "grid_column": null,
            "overflow_y": null,
            "overflow_x": null,
            "grid_auto_flow": null,
            "grid_area": null,
            "grid_template_columns": null,
            "flex": null,
            "_model_name": "LayoutModel",
            "justify_items": null,
            "grid_row": null,
            "max_height": null,
            "align_content": null,
            "visibility": null,
            "align_self": null,
            "height": null,
            "min_height": null,
            "padding": null,
            "grid_auto_rows": null,
            "grid_gap": null,
            "max_width": null,
            "order": null,
            "_view_module_version": "1.2.0",
            "grid_template_areas": null,
            "object_position": null,
            "object_fit": null,
            "grid_auto_columns": null,
            "margin": null,
            "display": null,
            "left": null
          }
        },
        "86573e98c07546cba1e0cc3bb8969921": {
          "model_module": "@jupyter-widgets/controls",
          "model_name": "ProgressStyleModel",
          "model_module_version": "1.5.0",
          "state": {
            "_view_name": "StyleView",
            "_model_name": "ProgressStyleModel",
            "description_width": "",
            "_view_module": "@jupyter-widgets/base",
            "_model_module_version": "1.5.0",
            "_view_count": null,
            "_view_module_version": "1.2.0",
            "bar_color": null,
            "_model_module": "@jupyter-widgets/controls"
          }
        },
        "abfcd46b9b6446ef94ccd64af1b5f626": {
          "model_module": "@jupyter-widgets/base",
          "model_name": "LayoutModel",
          "model_module_version": "1.2.0",
          "state": {
            "_view_name": "LayoutView",
            "grid_template_rows": null,
            "right": null,
            "justify_content": null,
            "_view_module": "@jupyter-widgets/base",
            "overflow": null,
            "_model_module_version": "1.2.0",
            "_view_count": null,
            "flex_flow": null,
            "width": null,
            "min_width": null,
            "border": null,
            "align_items": null,
            "bottom": null,
            "_model_module": "@jupyter-widgets/base",
            "top": null,
            "grid_column": null,
            "overflow_y": null,
            "overflow_x": null,
            "grid_auto_flow": null,
            "grid_area": null,
            "grid_template_columns": null,
            "flex": null,
            "_model_name": "LayoutModel",
            "justify_items": null,
            "grid_row": null,
            "max_height": null,
            "align_content": null,
            "visibility": null,
            "align_self": null,
            "height": null,
            "min_height": null,
            "padding": null,
            "grid_auto_rows": null,
            "grid_gap": null,
            "max_width": null,
            "order": null,
            "_view_module_version": "1.2.0",
            "grid_template_areas": null,
            "object_position": null,
            "object_fit": null,
            "grid_auto_columns": null,
            "margin": null,
            "display": null,
            "left": null
          }
        },
        "89c227311421410c8ffbb6fbb80b6da1": {
          "model_module": "@jupyter-widgets/controls",
          "model_name": "DescriptionStyleModel",
          "model_module_version": "1.5.0",
          "state": {
            "_view_name": "StyleView",
            "_model_name": "DescriptionStyleModel",
            "description_width": "",
            "_view_module": "@jupyter-widgets/base",
            "_model_module_version": "1.5.0",
            "_view_count": null,
            "_view_module_version": "1.2.0",
            "_model_module": "@jupyter-widgets/controls"
          }
        },
        "ee836fca476b4d16b15de9af551b48b2": {
          "model_module": "@jupyter-widgets/base",
          "model_name": "LayoutModel",
          "model_module_version": "1.2.0",
          "state": {
            "_view_name": "LayoutView",
            "grid_template_rows": null,
            "right": null,
            "justify_content": null,
            "_view_module": "@jupyter-widgets/base",
            "overflow": null,
            "_model_module_version": "1.2.0",
            "_view_count": null,
            "flex_flow": null,
            "width": null,
            "min_width": null,
            "border": null,
            "align_items": null,
            "bottom": null,
            "_model_module": "@jupyter-widgets/base",
            "top": null,
            "grid_column": null,
            "overflow_y": null,
            "overflow_x": null,
            "grid_auto_flow": null,
            "grid_area": null,
            "grid_template_columns": null,
            "flex": null,
            "_model_name": "LayoutModel",
            "justify_items": null,
            "grid_row": null,
            "max_height": null,
            "align_content": null,
            "visibility": null,
            "align_self": null,
            "height": null,
            "min_height": null,
            "padding": null,
            "grid_auto_rows": null,
            "grid_gap": null,
            "max_width": null,
            "order": null,
            "_view_module_version": "1.2.0",
            "grid_template_areas": null,
            "object_position": null,
            "object_fit": null,
            "grid_auto_columns": null,
            "margin": null,
            "display": null,
            "left": null
          }
        },
        "3420c02820ac4be1983c9fd5848d4c73": {
          "model_module": "@jupyter-widgets/controls",
          "model_name": "HBoxModel",
          "model_module_version": "1.5.0",
          "state": {
            "_view_name": "HBoxView",
            "_dom_classes": [],
            "_model_name": "HBoxModel",
            "_view_module": "@jupyter-widgets/controls",
            "_model_module_version": "1.5.0",
            "_view_count": null,
            "_view_module_version": "1.5.0",
            "box_style": "",
            "layout": "IPY_MODEL_71c7624744704bdaa32e33488ac4a0cb",
            "_model_module": "@jupyter-widgets/controls",
            "children": [
              "IPY_MODEL_e200585967b04edc8be960d81888c0bd",
              "IPY_MODEL_03fca39e21bd40359ca35b14abd1ac32",
              "IPY_MODEL_23ee61e060dc43cdbdce35431b0ca176"
            ]
          }
        },
        "71c7624744704bdaa32e33488ac4a0cb": {
          "model_module": "@jupyter-widgets/base",
          "model_name": "LayoutModel",
          "model_module_version": "1.2.0",
          "state": {
            "_view_name": "LayoutView",
            "grid_template_rows": null,
            "right": null,
            "justify_content": null,
            "_view_module": "@jupyter-widgets/base",
            "overflow": null,
            "_model_module_version": "1.2.0",
            "_view_count": null,
            "flex_flow": null,
            "width": null,
            "min_width": null,
            "border": null,
            "align_items": null,
            "bottom": null,
            "_model_module": "@jupyter-widgets/base",
            "top": null,
            "grid_column": null,
            "overflow_y": null,
            "overflow_x": null,
            "grid_auto_flow": null,
            "grid_area": null,
            "grid_template_columns": null,
            "flex": null,
            "_model_name": "LayoutModel",
            "justify_items": null,
            "grid_row": null,
            "max_height": null,
            "align_content": null,
            "visibility": null,
            "align_self": null,
            "height": null,
            "min_height": null,
            "padding": null,
            "grid_auto_rows": null,
            "grid_gap": null,
            "max_width": null,
            "order": null,
            "_view_module_version": "1.2.0",
            "grid_template_areas": null,
            "object_position": null,
            "object_fit": null,
            "grid_auto_columns": null,
            "margin": null,
            "display": null,
            "left": null
          }
        },
        "e200585967b04edc8be960d81888c0bd": {
          "model_module": "@jupyter-widgets/controls",
          "model_name": "HTMLModel",
          "model_module_version": "1.5.0",
          "state": {
            "_view_name": "HTMLView",
            "style": "IPY_MODEL_443c761f74604c4eb9332325c1d3cb5d",
            "_dom_classes": [],
            "description": "",
            "_model_name": "HTMLModel",
            "placeholder": "​",
            "_view_module": "@jupyter-widgets/controls",
            "_model_module_version": "1.5.0",
            "value": "Downloading: 100%",
            "_view_count": null,
            "_view_module_version": "1.5.0",
            "description_tooltip": null,
            "_model_module": "@jupyter-widgets/controls",
            "layout": "IPY_MODEL_91ae8934f8ed4b45a9f5adfedd17de3f"
          }
        },
        "03fca39e21bd40359ca35b14abd1ac32": {
          "model_module": "@jupyter-widgets/controls",
          "model_name": "FloatProgressModel",
          "model_module_version": "1.5.0",
          "state": {
            "_view_name": "ProgressView",
            "style": "IPY_MODEL_da791b0ca11c445ca7e13947811cb68f",
            "_dom_classes": [],
            "description": "",
            "_model_name": "FloatProgressModel",
            "bar_style": "success",
            "max": 440473133,
            "_view_module": "@jupyter-widgets/controls",
            "_model_module_version": "1.5.0",
            "value": 440473133,
            "_view_count": null,
            "_view_module_version": "1.5.0",
            "orientation": "horizontal",
            "min": 0,
            "description_tooltip": null,
            "_model_module": "@jupyter-widgets/controls",
            "layout": "IPY_MODEL_31bc82eb55d341efa404b4c86c01b7e3"
          }
        },
        "23ee61e060dc43cdbdce35431b0ca176": {
          "model_module": "@jupyter-widgets/controls",
          "model_name": "HTMLModel",
          "model_module_version": "1.5.0",
          "state": {
            "_view_name": "HTMLView",
            "style": "IPY_MODEL_c0ea6872c36f45308c74c39841342176",
            "_dom_classes": [],
            "description": "",
            "_model_name": "HTMLModel",
            "placeholder": "​",
            "_view_module": "@jupyter-widgets/controls",
            "_model_module_version": "1.5.0",
            "value": " 440M/440M [00:12&lt;00:00, 32.7MB/s]",
            "_view_count": null,
            "_view_module_version": "1.5.0",
            "description_tooltip": null,
            "_model_module": "@jupyter-widgets/controls",
            "layout": "IPY_MODEL_ecf8eaf3f2d641d49e029643c58eb2eb"
          }
        },
        "443c761f74604c4eb9332325c1d3cb5d": {
          "model_module": "@jupyter-widgets/controls",
          "model_name": "DescriptionStyleModel",
          "model_module_version": "1.5.0",
          "state": {
            "_view_name": "StyleView",
            "_model_name": "DescriptionStyleModel",
            "description_width": "",
            "_view_module": "@jupyter-widgets/base",
            "_model_module_version": "1.5.0",
            "_view_count": null,
            "_view_module_version": "1.2.0",
            "_model_module": "@jupyter-widgets/controls"
          }
        },
        "91ae8934f8ed4b45a9f5adfedd17de3f": {
          "model_module": "@jupyter-widgets/base",
          "model_name": "LayoutModel",
          "model_module_version": "1.2.0",
          "state": {
            "_view_name": "LayoutView",
            "grid_template_rows": null,
            "right": null,
            "justify_content": null,
            "_view_module": "@jupyter-widgets/base",
            "overflow": null,
            "_model_module_version": "1.2.0",
            "_view_count": null,
            "flex_flow": null,
            "width": null,
            "min_width": null,
            "border": null,
            "align_items": null,
            "bottom": null,
            "_model_module": "@jupyter-widgets/base",
            "top": null,
            "grid_column": null,
            "overflow_y": null,
            "overflow_x": null,
            "grid_auto_flow": null,
            "grid_area": null,
            "grid_template_columns": null,
            "flex": null,
            "_model_name": "LayoutModel",
            "justify_items": null,
            "grid_row": null,
            "max_height": null,
            "align_content": null,
            "visibility": null,
            "align_self": null,
            "height": null,
            "min_height": null,
            "padding": null,
            "grid_auto_rows": null,
            "grid_gap": null,
            "max_width": null,
            "order": null,
            "_view_module_version": "1.2.0",
            "grid_template_areas": null,
            "object_position": null,
            "object_fit": null,
            "grid_auto_columns": null,
            "margin": null,
            "display": null,
            "left": null
          }
        },
        "da791b0ca11c445ca7e13947811cb68f": {
          "model_module": "@jupyter-widgets/controls",
          "model_name": "ProgressStyleModel",
          "model_module_version": "1.5.0",
          "state": {
            "_view_name": "StyleView",
            "_model_name": "ProgressStyleModel",
            "description_width": "",
            "_view_module": "@jupyter-widgets/base",
            "_model_module_version": "1.5.0",
            "_view_count": null,
            "_view_module_version": "1.2.0",
            "bar_color": null,
            "_model_module": "@jupyter-widgets/controls"
          }
        },
        "31bc82eb55d341efa404b4c86c01b7e3": {
          "model_module": "@jupyter-widgets/base",
          "model_name": "LayoutModel",
          "model_module_version": "1.2.0",
          "state": {
            "_view_name": "LayoutView",
            "grid_template_rows": null,
            "right": null,
            "justify_content": null,
            "_view_module": "@jupyter-widgets/base",
            "overflow": null,
            "_model_module_version": "1.2.0",
            "_view_count": null,
            "flex_flow": null,
            "width": null,
            "min_width": null,
            "border": null,
            "align_items": null,
            "bottom": null,
            "_model_module": "@jupyter-widgets/base",
            "top": null,
            "grid_column": null,
            "overflow_y": null,
            "overflow_x": null,
            "grid_auto_flow": null,
            "grid_area": null,
            "grid_template_columns": null,
            "flex": null,
            "_model_name": "LayoutModel",
            "justify_items": null,
            "grid_row": null,
            "max_height": null,
            "align_content": null,
            "visibility": null,
            "align_self": null,
            "height": null,
            "min_height": null,
            "padding": null,
            "grid_auto_rows": null,
            "grid_gap": null,
            "max_width": null,
            "order": null,
            "_view_module_version": "1.2.0",
            "grid_template_areas": null,
            "object_position": null,
            "object_fit": null,
            "grid_auto_columns": null,
            "margin": null,
            "display": null,
            "left": null
          }
        },
        "c0ea6872c36f45308c74c39841342176": {
          "model_module": "@jupyter-widgets/controls",
          "model_name": "DescriptionStyleModel",
          "model_module_version": "1.5.0",
          "state": {
            "_view_name": "StyleView",
            "_model_name": "DescriptionStyleModel",
            "description_width": "",
            "_view_module": "@jupyter-widgets/base",
            "_model_module_version": "1.5.0",
            "_view_count": null,
            "_view_module_version": "1.2.0",
            "_model_module": "@jupyter-widgets/controls"
          }
        },
        "ecf8eaf3f2d641d49e029643c58eb2eb": {
          "model_module": "@jupyter-widgets/base",
          "model_name": "LayoutModel",
          "model_module_version": "1.2.0",
          "state": {
            "_view_name": "LayoutView",
            "grid_template_rows": null,
            "right": null,
            "justify_content": null,
            "_view_module": "@jupyter-widgets/base",
            "overflow": null,
            "_model_module_version": "1.2.0",
            "_view_count": null,
            "flex_flow": null,
            "width": null,
            "min_width": null,
            "border": null,
            "align_items": null,
            "bottom": null,
            "_model_module": "@jupyter-widgets/base",
            "top": null,
            "grid_column": null,
            "overflow_y": null,
            "overflow_x": null,
            "grid_auto_flow": null,
            "grid_area": null,
            "grid_template_columns": null,
            "flex": null,
            "_model_name": "LayoutModel",
            "justify_items": null,
            "grid_row": null,
            "max_height": null,
            "align_content": null,
            "visibility": null,
            "align_self": null,
            "height": null,
            "min_height": null,
            "padding": null,
            "grid_auto_rows": null,
            "grid_gap": null,
            "max_width": null,
            "order": null,
            "_view_module_version": "1.2.0",
            "grid_template_areas": null,
            "object_position": null,
            "object_fit": null,
            "grid_auto_columns": null,
            "margin": null,
            "display": null,
            "left": null
          }
        }
      }
    }
  },
  "cells": [
    {
      "cell_type": "markdown",
      "metadata": {
        "id": "UCcrCHe_6P5M"
      },
      "source": [
        "# Final project"
      ]
    },
    {
      "cell_type": "code",
      "metadata": {
        "colab": {
          "base_uri": "https://localhost:8080/"
        },
        "id": "B1nfdI8F1XJX",
        "outputId": "d7852b75-314b-4eaa-f56d-bd86e18717e2"
      },
      "source": [
        "!pip install transformers\n",
        "!pip install preprocess"
      ],
      "execution_count": null,
      "outputs": [
        {
          "output_type": "stream",
          "name": "stdout",
          "text": [
            "Requirement already satisfied: transformers in /usr/local/lib/python3.7/dist-packages (4.10.2)\n",
            "Requirement already satisfied: packaging in /usr/local/lib/python3.7/dist-packages (from transformers) (21.0)\n",
            "Requirement already satisfied: sacremoses in /usr/local/lib/python3.7/dist-packages (from transformers) (0.0.45)\n",
            "Requirement already satisfied: requests in /usr/local/lib/python3.7/dist-packages (from transformers) (2.23.0)\n",
            "Requirement already satisfied: huggingface-hub>=0.0.12 in /usr/local/lib/python3.7/dist-packages (from transformers) (0.0.17)\n",
            "Requirement already satisfied: importlib-metadata in /usr/local/lib/python3.7/dist-packages (from transformers) (4.6.4)\n",
            "Requirement already satisfied: pyyaml>=5.1 in /usr/local/lib/python3.7/dist-packages (from transformers) (5.4.1)\n",
            "Requirement already satisfied: filelock in /usr/local/lib/python3.7/dist-packages (from transformers) (3.0.12)\n",
            "Requirement already satisfied: regex!=2019.12.17 in /usr/local/lib/python3.7/dist-packages (from transformers) (2019.12.20)\n",
            "Requirement already satisfied: numpy>=1.17 in /usr/local/lib/python3.7/dist-packages (from transformers) (1.19.5)\n",
            "Requirement already satisfied: tokenizers<0.11,>=0.10.1 in /usr/local/lib/python3.7/dist-packages (from transformers) (0.10.3)\n",
            "Requirement already satisfied: tqdm>=4.27 in /usr/local/lib/python3.7/dist-packages (from transformers) (4.62.0)\n",
            "Requirement already satisfied: typing-extensions in /usr/local/lib/python3.7/dist-packages (from huggingface-hub>=0.0.12->transformers) (3.7.4.3)\n",
            "Requirement already satisfied: pyparsing>=2.0.2 in /usr/local/lib/python3.7/dist-packages (from packaging->transformers) (2.4.7)\n",
            "Requirement already satisfied: zipp>=0.5 in /usr/local/lib/python3.7/dist-packages (from importlib-metadata->transformers) (3.5.0)\n",
            "Requirement already satisfied: certifi>=2017.4.17 in /usr/local/lib/python3.7/dist-packages (from requests->transformers) (2021.5.30)\n",
            "Requirement already satisfied: urllib3!=1.25.0,!=1.25.1,<1.26,>=1.21.1 in /usr/local/lib/python3.7/dist-packages (from requests->transformers) (1.24.3)\n",
            "Requirement already satisfied: idna<3,>=2.5 in /usr/local/lib/python3.7/dist-packages (from requests->transformers) (2.10)\n",
            "Requirement already satisfied: chardet<4,>=3.0.2 in /usr/local/lib/python3.7/dist-packages (from requests->transformers) (3.0.4)\n",
            "Requirement already satisfied: click in /usr/local/lib/python3.7/dist-packages (from sacremoses->transformers) (7.1.2)\n",
            "Requirement already satisfied: joblib in /usr/local/lib/python3.7/dist-packages (from sacremoses->transformers) (1.0.1)\n",
            "Requirement already satisfied: six in /usr/local/lib/python3.7/dist-packages (from sacremoses->transformers) (1.15.0)\n",
            "Requirement already satisfied: preprocess in /usr/local/lib/python3.7/dist-packages (2.0.0)\n",
            "Requirement already satisfied: future in /usr/local/lib/python3.7/dist-packages (from preprocess) (0.16.0)\n"
          ]
        }
      ]
    },
    {
      "cell_type": "code",
      "metadata": {
        "id": "TRYvI3tg48gF"
      },
      "source": [
        "import os\n",
        "import os.path\n",
        "import torch\n",
        "import torch.nn as nn\n",
        "import pandas as pd\n",
        "import numpy as np\n",
        "import warnings\n",
        "import joblib\n",
        "import json\n",
        "import csv\n",
        "import random\n",
        "import itertools\n",
        "import matplotlib.pyplot as plt\n",
        "\n",
        "from pathlib import Path\n",
        "from google.colab import data_table\n",
        "from statistics import mean\n",
        "from transformers import DistilBertModel, AdamW, logging, BertTokenizer, DistilBertTokenizerFast, BertForSequenceClassification ,get_linear_schedule_with_warmup\n",
        "from torch.utils.data import TensorDataset, DataLoader, random_split, RandomSampler, SequentialSampler\n",
        "from sklearn.model_selection import train_test_split\n",
        "from sklearn.metrics import f1_score \n",
        "from tqdm import tqdm\n"
      ],
      "execution_count": null,
      "outputs": []
    },
    {
      "cell_type": "code",
      "metadata": {
        "id": "KEatRmkVDLdP"
      },
      "source": [
        "use_multiprocessing=False\n",
        "logging.set_verbosity_error()\n",
        "warnings.filterwarnings('ignore')\n",
        "\n",
        "%load_ext google.colab.data_table\n",
        "device = torch.device(\"cuda\" if torch.cuda.is_available() else \"cpu\")\n",
        "epochs = 10"
      ],
      "execution_count": null,
      "outputs": []
    },
    {
      "cell_type": "code",
      "metadata": {
        "id": "GWIul0_6vFtZ"
      },
      "source": [
        "def create_plot(array1, array2, label1, label2, x_label, y_label, title, epoch = 10):\n",
        "  epoch_array = list(range(1,epoch+1))\n",
        "  plt.figure(figsize = (15,7))\n",
        "  plt.subplot(1, 2, 2)\n",
        "  plt.plot(epoch_array, array1, label = label1, color = \"blue\")\n",
        "  plt.plot(epoch_array, array2, label = label2, color = \"red\")\n",
        "  plt.title(title, fontsize = 20, weight='bold')\n",
        "  plt.xlabel(x_label)\n",
        "  plt.ylabel(y_label)\n",
        "  plt.legend(loc = 'upper right')\n",
        "  plt.grid()\n",
        "  plt.show()"
      ],
      "execution_count": null,
      "outputs": []
    },
    {
      "cell_type": "code",
      "metadata": {
        "id": "tHzD7wibU2iR"
      },
      "source": [
        "def create_plot_one_array(array1, label1, x_label, y_label, title, epoch = 10):\n",
        "  epoch_array = list(range(1,epoch+1))\n",
        "  plt.figure(figsize = (15,7))\n",
        "  plt.subplot(1, 2, 2)\n",
        "  plt.plot(epoch_array, array1, label = label1, color = \"blue\")\n",
        "  plt.title(title, fontsize = 20, weight='bold')\n",
        "  plt.xlabel(x_label)\n",
        "  plt.ylabel(y_label)\n",
        "  plt.legend(loc = 'upper right')\n",
        "  plt.grid()\n",
        "  plt.show()"
      ],
      "execution_count": null,
      "outputs": []
    },
    {
      "cell_type": "markdown",
      "metadata": {
        "id": "FAgRDwT_HyVm"
      },
      "source": [
        "## **Download the SQuAD dataset**\n",
        "\n",
        "The Stanford Question Answering Dataset (SQuAD) is a reading comprehension dataset, consisting of questions posed by crowdworkers on a set of Wikipedia articles. \n",
        "\n",
        "The answer to every question is a segment of text (a span) from the corresponding reading passage. \n",
        "\n",
        "Recently, SQuAD 2.0 has been released, which includes unanswerable questions.\n",
        "\n",
        "The public leaderboard is available on the SQuAD website."
      ]
    },
    {
      "cell_type": "code",
      "metadata": {
        "colab": {
          "base_uri": "https://localhost:8080/"
        },
        "id": "NvxLCGMMPZae",
        "outputId": "1e3c37ab-372a-4abd-d2fc-e8e73c166dd9"
      },
      "source": [
        "!git clone https://github.com/rajpurkar/SQuAD-explorer.git"
      ],
      "execution_count": null,
      "outputs": [
        {
          "output_type": "stream",
          "name": "stdout",
          "text": [
            "fatal: destination path 'SQuAD-explorer' already exists and is not an empty directory.\n"
          ]
        }
      ]
    },
    {
      "cell_type": "code",
      "metadata": {
        "id": "iqzy-Wn3d-AF"
      },
      "source": [
        "squad_train_path = \"/content/SQuAD-explorer/dataset/train-v2.0.json\"\n",
        "squad_dev_path = \"/content/SQuAD-explorer/dataset/dev-v2.0.json\""
      ],
      "execution_count": null,
      "outputs": []
    },
    {
      "cell_type": "code",
      "metadata": {
        "id": "vX0My8cz9QJE"
      },
      "source": [
        "def load_data(file_path):\n",
        "  flattened_data = []\n",
        "\n",
        "  with open(file_path) as set_file:\n",
        "    data = json.load(set_file)\n",
        "\n",
        "    for i, article in enumerate(data[\"data\"]):\n",
        "      title = article.get(\"title\", \"\").strip()\n",
        "      for paragraph in article[\"paragraphs\"]:\n",
        "        context = paragraph[\"context\"].strip()\n",
        "        for qa in paragraph[\"qas\"]:\n",
        "          question = qa[\"question\"].strip()\n",
        "          id_ = qa[\"id\"]\n",
        "          impossible = qa[\"is_impossible\"]\n",
        "\n",
        "          answer_starts = [answer[\"answer_start\"] for answer in qa[\"answers\"]]\n",
        "          answers = [answer[\"text\"].strip() for answer in qa[\"answers\"]]\n",
        "\n",
        "          # Features currently used are \"context\", \"question\", and \"answers\".\n",
        "          # Others are extracted here for the ease of future expansions.\n",
        "          flattened_data.append({\"title\": title, \"context\": context, \"question\": question, \"id\": id_, \"answer.start\": answer_starts, \"answer.text\": answers, \"impossible\": impossible})\n",
        "  \n",
        "  return flattened_data"
      ],
      "execution_count": null,
      "outputs": []
    },
    {
      "cell_type": "code",
      "metadata": {
        "id": "RWuBMwth78ji"
      },
      "source": [
        "# create datasets\n",
        "squad_train_dataset = load_data(squad_train_path)\n",
        "squad_dev_dataset = load_data(squad_dev_path)\n",
        "\n",
        "# converting json dataset from dictionary to dataframe\n",
        "squad_train_df = pd.DataFrame.from_dict(squad_train_dataset)\n",
        "squad_dev_df = pd.DataFrame.from_dict(squad_dev_dataset)"
      ],
      "execution_count": null,
      "outputs": []
    },
    {
      "cell_type": "markdown",
      "metadata": {
        "id": "sPh68hGAeBUy"
      },
      "source": [
        "Verify dataset"
      ]
    },
    {
      "cell_type": "code",
      "metadata": {
        "id": "HA6XfHBb8Gax",
        "colab": {
          "base_uri": "https://localhost:8080/",
          "height": 423
        },
        "outputId": "bae930bd-e6f6-4d45-a198-210590b31f3e"
      },
      "source": [
        "squad_train_df.head()"
      ],
      "execution_count": null,
      "outputs": [
        {
          "output_type": "execute_result",
          "data": {
            "application/vnd.google.colaboratory.module+javascript": "\n      import \"https://ssl.gstatic.com/colaboratory/data_table/a6224c040fa35dcf/data_table.js\";\n\n      window.createDataTable({\n        data: [[{\n            'v': 0,\n            'f': \"0\",\n        },\n\"Beyonc\\u00e9\",\n\"Beyonc\\u00e9 Giselle Knowles-Carter (/bi\\u02d0\\u02c8j\\u0252nse\\u026a/ bee-YON-say) (born September 4, 1981) is an American singer, songwriter, record producer and actress. Born and raised in Houston, Texas, she performed in various singing and dancing competitions as a child, and rose to fame in the late 1990s as lead singer of R&B girl-group Destiny's Child. Managed by her father, Mathew Knowles, the group became one of the world's best-selling girl groups of all time. Their hiatus saw the release of Beyonc\\u00e9's debut album, Dangerously in Love (2003), which established her as a solo artist worldwide, earned five Grammy Awards and featured the Billboard Hot 100 number-one singles \\\"Crazy in Love\\\" and \\\"Baby Boy\\\".\",\n\"When did Beyonce start becoming popular?\",\n\"56be85543aeaaa14008c9063\",\n[269],\n[\"in the late 1990s\"],\nfalse],\n [{\n            'v': 1,\n            'f': \"1\",\n        },\n\"Beyonc\\u00e9\",\n\"Beyonc\\u00e9 Giselle Knowles-Carter (/bi\\u02d0\\u02c8j\\u0252nse\\u026a/ bee-YON-say) (born September 4, 1981) is an American singer, songwriter, record producer and actress. Born and raised in Houston, Texas, she performed in various singing and dancing competitions as a child, and rose to fame in the late 1990s as lead singer of R&B girl-group Destiny's Child. Managed by her father, Mathew Knowles, the group became one of the world's best-selling girl groups of all time. Their hiatus saw the release of Beyonc\\u00e9's debut album, Dangerously in Love (2003), which established her as a solo artist worldwide, earned five Grammy Awards and featured the Billboard Hot 100 number-one singles \\\"Crazy in Love\\\" and \\\"Baby Boy\\\".\",\n\"What areas did Beyonce compete in when she was growing up?\",\n\"56be85543aeaaa14008c9065\",\n[207],\n[\"singing and dancing\"],\nfalse],\n [{\n            'v': 2,\n            'f': \"2\",\n        },\n\"Beyonc\\u00e9\",\n\"Beyonc\\u00e9 Giselle Knowles-Carter (/bi\\u02d0\\u02c8j\\u0252nse\\u026a/ bee-YON-say) (born September 4, 1981) is an American singer, songwriter, record producer and actress. Born and raised in Houston, Texas, she performed in various singing and dancing competitions as a child, and rose to fame in the late 1990s as lead singer of R&B girl-group Destiny's Child. Managed by her father, Mathew Knowles, the group became one of the world's best-selling girl groups of all time. Their hiatus saw the release of Beyonc\\u00e9's debut album, Dangerously in Love (2003), which established her as a solo artist worldwide, earned five Grammy Awards and featured the Billboard Hot 100 number-one singles \\\"Crazy in Love\\\" and \\\"Baby Boy\\\".\",\n\"When did Beyonce leave Destiny's Child and become a solo singer?\",\n\"56be85543aeaaa14008c9066\",\n[526],\n[\"2003\"],\nfalse],\n [{\n            'v': 3,\n            'f': \"3\",\n        },\n\"Beyonc\\u00e9\",\n\"Beyonc\\u00e9 Giselle Knowles-Carter (/bi\\u02d0\\u02c8j\\u0252nse\\u026a/ bee-YON-say) (born September 4, 1981) is an American singer, songwriter, record producer and actress. Born and raised in Houston, Texas, she performed in various singing and dancing competitions as a child, and rose to fame in the late 1990s as lead singer of R&B girl-group Destiny's Child. Managed by her father, Mathew Knowles, the group became one of the world's best-selling girl groups of all time. Their hiatus saw the release of Beyonc\\u00e9's debut album, Dangerously in Love (2003), which established her as a solo artist worldwide, earned five Grammy Awards and featured the Billboard Hot 100 number-one singles \\\"Crazy in Love\\\" and \\\"Baby Boy\\\".\",\n\"In what city and state did Beyonce  grow up?\",\n\"56bf6b0f3aeaaa14008c9601\",\n[166],\n[\"Houston, Texas\"],\nfalse],\n [{\n            'v': 4,\n            'f': \"4\",\n        },\n\"Beyonc\\u00e9\",\n\"Beyonc\\u00e9 Giselle Knowles-Carter (/bi\\u02d0\\u02c8j\\u0252nse\\u026a/ bee-YON-say) (born September 4, 1981) is an American singer, songwriter, record producer and actress. Born and raised in Houston, Texas, she performed in various singing and dancing competitions as a child, and rose to fame in the late 1990s as lead singer of R&B girl-group Destiny's Child. Managed by her father, Mathew Knowles, the group became one of the world's best-selling girl groups of all time. Their hiatus saw the release of Beyonc\\u00e9's debut album, Dangerously in Love (2003), which established her as a solo artist worldwide, earned five Grammy Awards and featured the Billboard Hot 100 number-one singles \\\"Crazy in Love\\\" and \\\"Baby Boy\\\".\",\n\"In which decade did Beyonce become famous?\",\n\"56bf6b0f3aeaaa14008c9602\",\n[276],\n[\"late 1990s\"],\nfalse]],\n        columns: [[\"number\", \"index\"], [\"string\", \"title\"], [\"string\", \"context\"], [\"string\", \"question\"], [\"string\", \"id\"], [\"string\", \"answer.start\"], [\"string\", \"answer.text\"], [\"string\", \"impossible\"]],\n        columnOptions: [{\"width\": \"1px\", \"className\": \"index_column\"}],\n        rowsPerPage: 25,\n        helpUrl: \"https://colab.research.google.com/notebooks/data_table.ipynb\",\n        suppressOutputScrolling: true,\n        minimumWidth: undefined,\n      });\n    ",
            "text/html": [
              "<div>\n",
              "<style scoped>\n",
              "    .dataframe tbody tr th:only-of-type {\n",
              "        vertical-align: middle;\n",
              "    }\n",
              "\n",
              "    .dataframe tbody tr th {\n",
              "        vertical-align: top;\n",
              "    }\n",
              "\n",
              "    .dataframe thead th {\n",
              "        text-align: right;\n",
              "    }\n",
              "</style>\n",
              "<table border=\"1\" class=\"dataframe\">\n",
              "  <thead>\n",
              "    <tr style=\"text-align: right;\">\n",
              "      <th></th>\n",
              "      <th>title</th>\n",
              "      <th>context</th>\n",
              "      <th>question</th>\n",
              "      <th>id</th>\n",
              "      <th>answer.start</th>\n",
              "      <th>answer.text</th>\n",
              "      <th>impossible</th>\n",
              "    </tr>\n",
              "  </thead>\n",
              "  <tbody>\n",
              "    <tr>\n",
              "      <th>0</th>\n",
              "      <td>Beyoncé</td>\n",
              "      <td>Beyoncé Giselle Knowles-Carter (/biːˈjɒnseɪ/ b...</td>\n",
              "      <td>When did Beyonce start becoming popular?</td>\n",
              "      <td>56be85543aeaaa14008c9063</td>\n",
              "      <td>[269]</td>\n",
              "      <td>[in the late 1990s]</td>\n",
              "      <td>False</td>\n",
              "    </tr>\n",
              "    <tr>\n",
              "      <th>1</th>\n",
              "      <td>Beyoncé</td>\n",
              "      <td>Beyoncé Giselle Knowles-Carter (/biːˈjɒnseɪ/ b...</td>\n",
              "      <td>What areas did Beyonce compete in when she was...</td>\n",
              "      <td>56be85543aeaaa14008c9065</td>\n",
              "      <td>[207]</td>\n",
              "      <td>[singing and dancing]</td>\n",
              "      <td>False</td>\n",
              "    </tr>\n",
              "    <tr>\n",
              "      <th>2</th>\n",
              "      <td>Beyoncé</td>\n",
              "      <td>Beyoncé Giselle Knowles-Carter (/biːˈjɒnseɪ/ b...</td>\n",
              "      <td>When did Beyonce leave Destiny's Child and bec...</td>\n",
              "      <td>56be85543aeaaa14008c9066</td>\n",
              "      <td>[526]</td>\n",
              "      <td>[2003]</td>\n",
              "      <td>False</td>\n",
              "    </tr>\n",
              "    <tr>\n",
              "      <th>3</th>\n",
              "      <td>Beyoncé</td>\n",
              "      <td>Beyoncé Giselle Knowles-Carter (/biːˈjɒnseɪ/ b...</td>\n",
              "      <td>In what city and state did Beyonce  grow up?</td>\n",
              "      <td>56bf6b0f3aeaaa14008c9601</td>\n",
              "      <td>[166]</td>\n",
              "      <td>[Houston, Texas]</td>\n",
              "      <td>False</td>\n",
              "    </tr>\n",
              "    <tr>\n",
              "      <th>4</th>\n",
              "      <td>Beyoncé</td>\n",
              "      <td>Beyoncé Giselle Knowles-Carter (/biːˈjɒnseɪ/ b...</td>\n",
              "      <td>In which decade did Beyonce become famous?</td>\n",
              "      <td>56bf6b0f3aeaaa14008c9602</td>\n",
              "      <td>[276]</td>\n",
              "      <td>[late 1990s]</td>\n",
              "      <td>False</td>\n",
              "    </tr>\n",
              "  </tbody>\n",
              "</table>\n",
              "</div>"
            ],
            "text/plain": [
              "     title  ... impossible\n",
              "0  Beyoncé  ...      False\n",
              "1  Beyoncé  ...      False\n",
              "2  Beyoncé  ...      False\n",
              "3  Beyoncé  ...      False\n",
              "4  Beyoncé  ...      False\n",
              "\n",
              "[5 rows x 7 columns]"
            ]
          },
          "metadata": {},
          "execution_count": 10
        }
      ]
    },
    {
      "cell_type": "code",
      "metadata": {
        "id": "Bp_Dhweb_rYy",
        "colab": {
          "base_uri": "https://localhost:8080/",
          "height": 501
        },
        "outputId": "3f50f595-c0e5-467b-ebd4-198590e4e721"
      },
      "source": [
        "squad_dev_df.head()"
      ],
      "execution_count": null,
      "outputs": [
        {
          "output_type": "execute_result",
          "data": {
            "application/vnd.google.colaboratory.module+javascript": "\n      import \"https://ssl.gstatic.com/colaboratory/data_table/a6224c040fa35dcf/data_table.js\";\n\n      window.createDataTable({\n        data: [[{\n            'v': 0,\n            'f': \"0\",\n        },\n\"Normans\",\n\"The Normans (Norman: Nourmands; French: Normands; Latin: Normanni) were the people who in the 10th and 11th centuries gave their name to Normandy, a region in France. They were descended from Norse (\\\"Norman\\\" comes from \\\"Norseman\\\") raiders and pirates from Denmark, Iceland and Norway who, under their leader Rollo, agreed to swear fealty to King Charles III of West Francia. Through generations of assimilation and mixing with the native Frankish and Roman-Gaulish populations, their descendants would gradually merge with the Carolingian-based cultures of West Francia. The distinct cultural and ethnic identity of the Normans emerged initially in the first half of the 10th century, and it continued to evolve over the succeeding centuries.\",\n\"In what country is Normandy located?\",\n\"56ddde6b9a695914005b9628\",\n[159, 159, 159, 159],\n[\"France\", \"France\", \"France\", \"France\"],\nfalse],\n [{\n            'v': 1,\n            'f': \"1\",\n        },\n\"Normans\",\n\"The Normans (Norman: Nourmands; French: Normands; Latin: Normanni) were the people who in the 10th and 11th centuries gave their name to Normandy, a region in France. They were descended from Norse (\\\"Norman\\\" comes from \\\"Norseman\\\") raiders and pirates from Denmark, Iceland and Norway who, under their leader Rollo, agreed to swear fealty to King Charles III of West Francia. Through generations of assimilation and mixing with the native Frankish and Roman-Gaulish populations, their descendants would gradually merge with the Carolingian-based cultures of West Francia. The distinct cultural and ethnic identity of the Normans emerged initially in the first half of the 10th century, and it continued to evolve over the succeeding centuries.\",\n\"When were the Normans in Normandy?\",\n\"56ddde6b9a695914005b9629\",\n[94, 87, 94, 94],\n[\"10th and 11th centuries\", \"in the 10th and 11th centuries\", \"10th and 11th centuries\", \"10th and 11th centuries\"],\nfalse],\n [{\n            'v': 2,\n            'f': \"2\",\n        },\n\"Normans\",\n\"The Normans (Norman: Nourmands; French: Normands; Latin: Normanni) were the people who in the 10th and 11th centuries gave their name to Normandy, a region in France. They were descended from Norse (\\\"Norman\\\" comes from \\\"Norseman\\\") raiders and pirates from Denmark, Iceland and Norway who, under their leader Rollo, agreed to swear fealty to King Charles III of West Francia. Through generations of assimilation and mixing with the native Frankish and Roman-Gaulish populations, their descendants would gradually merge with the Carolingian-based cultures of West Francia. The distinct cultural and ethnic identity of the Normans emerged initially in the first half of the 10th century, and it continued to evolve over the succeeding centuries.\",\n\"From which countries did the Norse originate?\",\n\"56ddde6b9a695914005b962a\",\n[256, 256, 256, 256],\n[\"Denmark, Iceland and Norway\", \"Denmark, Iceland and Norway\", \"Denmark, Iceland and Norway\", \"Denmark, Iceland and Norway\"],\nfalse],\n [{\n            'v': 3,\n            'f': \"3\",\n        },\n\"Normans\",\n\"The Normans (Norman: Nourmands; French: Normands; Latin: Normanni) were the people who in the 10th and 11th centuries gave their name to Normandy, a region in France. They were descended from Norse (\\\"Norman\\\" comes from \\\"Norseman\\\") raiders and pirates from Denmark, Iceland and Norway who, under their leader Rollo, agreed to swear fealty to King Charles III of West Francia. Through generations of assimilation and mixing with the native Frankish and Roman-Gaulish populations, their descendants would gradually merge with the Carolingian-based cultures of West Francia. The distinct cultural and ethnic identity of the Normans emerged initially in the first half of the 10th century, and it continued to evolve over the succeeding centuries.\",\n\"Who was the Norse leader?\",\n\"56ddde6b9a695914005b962b\",\n[308, 308, 308, 308],\n[\"Rollo\", \"Rollo\", \"Rollo\", \"Rollo\"],\nfalse],\n [{\n            'v': 4,\n            'f': \"4\",\n        },\n\"Normans\",\n\"The Normans (Norman: Nourmands; French: Normands; Latin: Normanni) were the people who in the 10th and 11th centuries gave their name to Normandy, a region in France. They were descended from Norse (\\\"Norman\\\" comes from \\\"Norseman\\\") raiders and pirates from Denmark, Iceland and Norway who, under their leader Rollo, agreed to swear fealty to King Charles III of West Francia. Through generations of assimilation and mixing with the native Frankish and Roman-Gaulish populations, their descendants would gradually merge with the Carolingian-based cultures of West Francia. The distinct cultural and ethnic identity of the Normans emerged initially in the first half of the 10th century, and it continued to evolve over the succeeding centuries.\",\n\"What century did the Normans first gain their separate identity?\",\n\"56ddde6b9a695914005b962c\",\n[671, 649, 671, 671],\n[\"10th century\", \"the first half of the 10th century\", \"10th\", \"10th\"],\nfalse]],\n        columns: [[\"number\", \"index\"], [\"string\", \"title\"], [\"string\", \"context\"], [\"string\", \"question\"], [\"string\", \"id\"], [\"string\", \"answer.start\"], [\"string\", \"answer.text\"], [\"string\", \"impossible\"]],\n        columnOptions: [{\"width\": \"1px\", \"className\": \"index_column\"}],\n        rowsPerPage: 25,\n        helpUrl: \"https://colab.research.google.com/notebooks/data_table.ipynb\",\n        suppressOutputScrolling: true,\n        minimumWidth: undefined,\n      });\n    ",
            "text/html": [
              "<div>\n",
              "<style scoped>\n",
              "    .dataframe tbody tr th:only-of-type {\n",
              "        vertical-align: middle;\n",
              "    }\n",
              "\n",
              "    .dataframe tbody tr th {\n",
              "        vertical-align: top;\n",
              "    }\n",
              "\n",
              "    .dataframe thead th {\n",
              "        text-align: right;\n",
              "    }\n",
              "</style>\n",
              "<table border=\"1\" class=\"dataframe\">\n",
              "  <thead>\n",
              "    <tr style=\"text-align: right;\">\n",
              "      <th></th>\n",
              "      <th>title</th>\n",
              "      <th>context</th>\n",
              "      <th>question</th>\n",
              "      <th>id</th>\n",
              "      <th>answer.start</th>\n",
              "      <th>answer.text</th>\n",
              "      <th>impossible</th>\n",
              "    </tr>\n",
              "  </thead>\n",
              "  <tbody>\n",
              "    <tr>\n",
              "      <th>0</th>\n",
              "      <td>Normans</td>\n",
              "      <td>The Normans (Norman: Nourmands; French: Norman...</td>\n",
              "      <td>In what country is Normandy located?</td>\n",
              "      <td>56ddde6b9a695914005b9628</td>\n",
              "      <td>[159, 159, 159, 159]</td>\n",
              "      <td>[France, France, France, France]</td>\n",
              "      <td>False</td>\n",
              "    </tr>\n",
              "    <tr>\n",
              "      <th>1</th>\n",
              "      <td>Normans</td>\n",
              "      <td>The Normans (Norman: Nourmands; French: Norman...</td>\n",
              "      <td>When were the Normans in Normandy?</td>\n",
              "      <td>56ddde6b9a695914005b9629</td>\n",
              "      <td>[94, 87, 94, 94]</td>\n",
              "      <td>[10th and 11th centuries, in the 10th and 11th...</td>\n",
              "      <td>False</td>\n",
              "    </tr>\n",
              "    <tr>\n",
              "      <th>2</th>\n",
              "      <td>Normans</td>\n",
              "      <td>The Normans (Norman: Nourmands; French: Norman...</td>\n",
              "      <td>From which countries did the Norse originate?</td>\n",
              "      <td>56ddde6b9a695914005b962a</td>\n",
              "      <td>[256, 256, 256, 256]</td>\n",
              "      <td>[Denmark, Iceland and Norway, Denmark, Iceland...</td>\n",
              "      <td>False</td>\n",
              "    </tr>\n",
              "    <tr>\n",
              "      <th>3</th>\n",
              "      <td>Normans</td>\n",
              "      <td>The Normans (Norman: Nourmands; French: Norman...</td>\n",
              "      <td>Who was the Norse leader?</td>\n",
              "      <td>56ddde6b9a695914005b962b</td>\n",
              "      <td>[308, 308, 308, 308]</td>\n",
              "      <td>[Rollo, Rollo, Rollo, Rollo]</td>\n",
              "      <td>False</td>\n",
              "    </tr>\n",
              "    <tr>\n",
              "      <th>4</th>\n",
              "      <td>Normans</td>\n",
              "      <td>The Normans (Norman: Nourmands; French: Norman...</td>\n",
              "      <td>What century did the Normans first gain their ...</td>\n",
              "      <td>56ddde6b9a695914005b962c</td>\n",
              "      <td>[671, 649, 671, 671]</td>\n",
              "      <td>[10th century, the first half of the 10th cent...</td>\n",
              "      <td>False</td>\n",
              "    </tr>\n",
              "  </tbody>\n",
              "</table>\n",
              "</div>"
            ],
            "text/plain": [
              "     title  ... impossible\n",
              "0  Normans  ...      False\n",
              "1  Normans  ...      False\n",
              "2  Normans  ...      False\n",
              "3  Normans  ...      False\n",
              "4  Normans  ...      False\n",
              "\n",
              "[5 rows x 7 columns]"
            ]
          },
          "metadata": {},
          "execution_count": 11
        }
      ]
    },
    {
      "cell_type": "markdown",
      "metadata": {
        "id": "_CzQUmpQHkAT"
      },
      "source": [
        "# **Download the Sentiment140 dataset**\n",
        "**Sentiment140 dataset with 1.6 million tweets dataset**\n",
        "\n",
        "This is the sentiment140 dataset. It contains 1,600,000 tweets extracted using the twitter api . The tweets have been annotated (0 = negative, 4 = positive) and they can be used to detect sentiment .\n",
        "\n",
        "\n",
        "It contains the following 6 fields:\n",
        "\n",
        "1.   target: the polarity of the tweet (0 = negative, 2 = neutral, 4 = positive)\n",
        "2.   ids: The id of the tweet ( 2087)\n",
        "3.   date: the date of the tweet (Sat May 16 23:58:44 UTC 2009)\n",
        "4.   flag: The query (lyx). If there is no query, then this value is NO_QUERY.\n",
        "5.   text: the text of the tweet (Lyx is cool)\n"
      ]
    },
    {
      "cell_type": "code",
      "metadata": {
        "colab": {
          "base_uri": "https://localhost:8080/"
        },
        "id": "niCVAanFHjKC",
        "outputId": "ba9fef77-333a-449e-b5a3-cee81c369e89"
      },
      "source": [
        "filesSemantic = Path(\"../content/sentiment140\")\n",
        "\n",
        "if filesSemantic.exists():\n",
        "  print(\"Files already loaded\")\n",
        "else:\n",
        "  # First, let’s install the Kaggle package that will be used for importing the data.\n",
        "  !pip install kaggle\n",
        "\n",
        "  # Next, we need to upload the credentials of our Kaggle account. To do so, you need to enter your profile and “Create New API Token”. \n",
        "  # If you already have one you can click on “Expire API Token” and create a new one.\n",
        "  # Then, save the json file with your credentials on your computer and upload this file to Colab using the code below:\n",
        "  kaggle_file = Path(\"/content/kaggle.json\")\n",
        "  if kaggle_file.is_file():\n",
        "    print(\"kaggle json exist, procceed\")\n",
        "  else:\n",
        "    from google.colab import files\n",
        "    files.upload()\n",
        "\n",
        "  # The Kaggle API client expects the json file to be in ~/.kaggle folder so let’s create a new folder and move it inside.\n",
        "  !mkdir -p ~/.kaggle\n",
        "  !cp kaggle.json ~/.kaggle/\n",
        "  !chmod 600 ~/.kaggle/kaggle.json\n",
        "\n",
        "  # Next, we will click on the three vertical points on the right side of the screen and “Copy the API Command” of the dataset that we want to import from Kaggle.\n",
        "  # Than we will paste this line of code in our notebook as below:\n",
        "  !kaggle datasets download -d kazanova/sentiment140\n",
        "\n",
        "  # Let’s see the imported files:\n",
        "  !ls\n",
        "\n",
        "  # Now, the last step is to open the extracted files and get the data:\n",
        "  import zipfile\n",
        "  zip_ref = zipfile.ZipFile('/content/sentiment140.zip', 'r')\n",
        "  zip_ref.extractall('/content/sentiment140')\n",
        "  \n",
        "  zip_ref.close()\n",
        "\n",
        "  print(\"Done extract data\")"
      ],
      "execution_count": null,
      "outputs": [
        {
          "output_type": "stream",
          "name": "stdout",
          "text": [
            "Files already loaded\n"
          ]
        }
      ]
    },
    {
      "cell_type": "code",
      "metadata": {
        "id": "XbhdWpylMfJM"
      },
      "source": [
        "DATASET_PATH = \"/content/sentiment140/training.1600000.processed.noemoticon.csv\"\n",
        "DATASET_COLUMNS = [\"target\", \"ids\", \"date\", \"flag\", \"user\", \"text\"]\n",
        "INTERESTING_COLUMNS = [\"target\", \"ids\", \"text\"]\n",
        "DATASET_ENCODING = \"ISO-8859-1\"\n",
        "ALL_FORMAT = \"{}_all.csv\"\n",
        "SHORT_FORMAT = \"{}_{}.csv\"\n",
        "SENTIMENT_NUM_TO_STRING = {0: \"Negative\", 4: \"Positive\"}"
      ],
      "execution_count": null,
      "outputs": []
    },
    {
      "cell_type": "code",
      "metadata": {
        "id": "LSffO2yGNrm2"
      },
      "source": [
        "sentimant_df = pd.read_csv(DATASET_PATH, encoding = DATASET_ENCODING, names = DATASET_COLUMNS)"
      ],
      "execution_count": null,
      "outputs": []
    },
    {
      "cell_type": "markdown",
      "metadata": {
        "id": "-VifvN0vcMFu"
      },
      "source": [
        "**Verify dataset**"
      ]
    },
    {
      "cell_type": "code",
      "metadata": {
        "id": "3S97F8Zkc2je",
        "colab": {
          "base_uri": "https://localhost:8080/",
          "height": 190
        },
        "outputId": "86a5a03c-970f-4eec-b347-5c9565bbcb43"
      },
      "source": [
        "sentimant_df.head()"
      ],
      "execution_count": null,
      "outputs": [
        {
          "output_type": "execute_result",
          "data": {
            "application/vnd.google.colaboratory.module+javascript": "\n      import \"https://ssl.gstatic.com/colaboratory/data_table/a6224c040fa35dcf/data_table.js\";\n\n      window.createDataTable({\n        data: [[{\n            'v': 0,\n            'f': \"0\",\n        },\n{\n            'v': 0,\n            'f': \"0\",\n        },\n{\n            'v': 1467810369,\n            'f': \"1467810369\",\n        },\n\"Mon Apr 06 22:19:45 PDT 2009\",\n\"NO_QUERY\",\n\"_TheSpecialOne_\",\n\"@switchfoot http://twitpic.com/2y1zl - Awww, that's a bummer.  You shoulda got David Carr of Third Day to do it. ;D\"],\n [{\n            'v': 1,\n            'f': \"1\",\n        },\n{\n            'v': 0,\n            'f': \"0\",\n        },\n{\n            'v': 1467810672,\n            'f': \"1467810672\",\n        },\n\"Mon Apr 06 22:19:49 PDT 2009\",\n\"NO_QUERY\",\n\"scotthamilton\",\n\"is upset that he can't update his Facebook by texting it... and might cry as a result  School today also. Blah!\"],\n [{\n            'v': 2,\n            'f': \"2\",\n        },\n{\n            'v': 0,\n            'f': \"0\",\n        },\n{\n            'v': 1467810917,\n            'f': \"1467810917\",\n        },\n\"Mon Apr 06 22:19:53 PDT 2009\",\n\"NO_QUERY\",\n\"mattycus\",\n\"@Kenichan I dived many times for the ball. Managed to save 50%  The rest go out of bounds\"],\n [{\n            'v': 3,\n            'f': \"3\",\n        },\n{\n            'v': 0,\n            'f': \"0\",\n        },\n{\n            'v': 1467811184,\n            'f': \"1467811184\",\n        },\n\"Mon Apr 06 22:19:57 PDT 2009\",\n\"NO_QUERY\",\n\"ElleCTF\",\n\"my whole body feels itchy and like its on fire \"],\n [{\n            'v': 4,\n            'f': \"4\",\n        },\n{\n            'v': 0,\n            'f': \"0\",\n        },\n{\n            'v': 1467811193,\n            'f': \"1467811193\",\n        },\n\"Mon Apr 06 22:19:57 PDT 2009\",\n\"NO_QUERY\",\n\"Karoli\",\n\"@nationwideclass no, it's not behaving at all. i'm mad. why am i here? because I can't see you all over there. \"]],\n        columns: [[\"number\", \"index\"], [\"number\", \"target\"], [\"number\", \"ids\"], [\"string\", \"date\"], [\"string\", \"flag\"], [\"string\", \"user\"], [\"string\", \"text\"]],\n        columnOptions: [{\"width\": \"1px\", \"className\": \"index_column\"}],\n        rowsPerPage: 25,\n        helpUrl: \"https://colab.research.google.com/notebooks/data_table.ipynb\",\n        suppressOutputScrolling: true,\n        minimumWidth: undefined,\n      });\n    ",
            "text/html": [
              "<div>\n",
              "<style scoped>\n",
              "    .dataframe tbody tr th:only-of-type {\n",
              "        vertical-align: middle;\n",
              "    }\n",
              "\n",
              "    .dataframe tbody tr th {\n",
              "        vertical-align: top;\n",
              "    }\n",
              "\n",
              "    .dataframe thead th {\n",
              "        text-align: right;\n",
              "    }\n",
              "</style>\n",
              "<table border=\"1\" class=\"dataframe\">\n",
              "  <thead>\n",
              "    <tr style=\"text-align: right;\">\n",
              "      <th></th>\n",
              "      <th>target</th>\n",
              "      <th>ids</th>\n",
              "      <th>date</th>\n",
              "      <th>flag</th>\n",
              "      <th>user</th>\n",
              "      <th>text</th>\n",
              "    </tr>\n",
              "  </thead>\n",
              "  <tbody>\n",
              "    <tr>\n",
              "      <th>0</th>\n",
              "      <td>0</td>\n",
              "      <td>1467810369</td>\n",
              "      <td>Mon Apr 06 22:19:45 PDT 2009</td>\n",
              "      <td>NO_QUERY</td>\n",
              "      <td>_TheSpecialOne_</td>\n",
              "      <td>@switchfoot http://twitpic.com/2y1zl - Awww, t...</td>\n",
              "    </tr>\n",
              "    <tr>\n",
              "      <th>1</th>\n",
              "      <td>0</td>\n",
              "      <td>1467810672</td>\n",
              "      <td>Mon Apr 06 22:19:49 PDT 2009</td>\n",
              "      <td>NO_QUERY</td>\n",
              "      <td>scotthamilton</td>\n",
              "      <td>is upset that he can't update his Facebook by ...</td>\n",
              "    </tr>\n",
              "    <tr>\n",
              "      <th>2</th>\n",
              "      <td>0</td>\n",
              "      <td>1467810917</td>\n",
              "      <td>Mon Apr 06 22:19:53 PDT 2009</td>\n",
              "      <td>NO_QUERY</td>\n",
              "      <td>mattycus</td>\n",
              "      <td>@Kenichan I dived many times for the ball. Man...</td>\n",
              "    </tr>\n",
              "    <tr>\n",
              "      <th>3</th>\n",
              "      <td>0</td>\n",
              "      <td>1467811184</td>\n",
              "      <td>Mon Apr 06 22:19:57 PDT 2009</td>\n",
              "      <td>NO_QUERY</td>\n",
              "      <td>ElleCTF</td>\n",
              "      <td>my whole body feels itchy and like its on fire</td>\n",
              "    </tr>\n",
              "    <tr>\n",
              "      <th>4</th>\n",
              "      <td>0</td>\n",
              "      <td>1467811193</td>\n",
              "      <td>Mon Apr 06 22:19:57 PDT 2009</td>\n",
              "      <td>NO_QUERY</td>\n",
              "      <td>Karoli</td>\n",
              "      <td>@nationwideclass no, it's not behaving at all....</td>\n",
              "    </tr>\n",
              "  </tbody>\n",
              "</table>\n",
              "</div>"
            ],
            "text/plain": [
              "   target  ...                                               text\n",
              "0       0  ...  @switchfoot http://twitpic.com/2y1zl - Awww, t...\n",
              "1       0  ...  is upset that he can't update his Facebook by ...\n",
              "2       0  ...  @Kenichan I dived many times for the ball. Man...\n",
              "3       0  ...    my whole body feels itchy and like its on fire \n",
              "4       0  ...  @nationwideclass no, it's not behaving at all....\n",
              "\n",
              "[5 rows x 6 columns]"
            ]
          },
          "metadata": {},
          "execution_count": 15
        }
      ]
    },
    {
      "cell_type": "code",
      "metadata": {
        "id": "4fphXsNxcMPr",
        "colab": {
          "base_uri": "https://localhost:8080/"
        },
        "outputId": "1cf59728-edfe-4a9b-f683-6746e86ca2d9"
      },
      "source": [
        "sentimant_df.target.value_counts()"
      ],
      "execution_count": null,
      "outputs": [
        {
          "output_type": "execute_result",
          "data": {
            "text/plain": [
              "4    800000\n",
              "0    800000\n",
              "Name: target, dtype: int64"
            ]
          },
          "metadata": {},
          "execution_count": 16
        }
      ]
    },
    {
      "cell_type": "code",
      "metadata": {
        "id": "V_ISQ3MrchI7",
        "colab": {
          "base_uri": "https://localhost:8080/"
        },
        "outputId": "375d9ea4-89e3-4492-e4a4-8cffc34fca31"
      },
      "source": [
        "sentimant_df.info()"
      ],
      "execution_count": null,
      "outputs": [
        {
          "output_type": "stream",
          "name": "stdout",
          "text": [
            "<class 'pandas.core.frame.DataFrame'>\n",
            "RangeIndex: 1600000 entries, 0 to 1599999\n",
            "Data columns (total 6 columns):\n",
            " #   Column  Non-Null Count    Dtype \n",
            "---  ------  --------------    ----- \n",
            " 0   target  1600000 non-null  int64 \n",
            " 1   ids     1600000 non-null  int64 \n",
            " 2   date    1600000 non-null  object\n",
            " 3   flag    1600000 non-null  object\n",
            " 4   user    1600000 non-null  object\n",
            " 5   text    1600000 non-null  object\n",
            "dtypes: int64(2), object(4)\n",
            "memory usage: 73.2+ MB\n"
          ]
        }
      ]
    },
    {
      "cell_type": "markdown",
      "metadata": {
        "id": "BhcRSx1oO-hu"
      },
      "source": [
        "## Adjusting the SA to QA\n",
        "**Split dataset to a dataset of 10000 negative and 10000 positive sentiments**"
      ]
    },
    {
      "cell_type": "code",
      "metadata": {
        "id": "IxKKBtv7MFf2"
      },
      "source": [
        "def convert_sentiment_data_to_qa_data(data):\n",
        "  data['question'] = \"would you feel positively about \" + data['text'] + \" ?\"\n",
        "  data = data.rename(columns={'text': 'context', 'target': 'answer'})\n",
        "\n",
        "  return data[['context', 'question', 'answer']]\n",
        "\n",
        "def cleanup_from_at_signs(data):\n",
        "  df1 = data.query('not text.str.contains(\"@\")', engine='python')\n",
        "  df2 = df1.applymap(lambda x: x.strip() if isinstance(x, str) else x)\n",
        "  return df2\n",
        "\n",
        "def create_short_sentiment_file_with_no_mentions(data):\n",
        "  # clean df\n",
        "  cleanup_df = cleanup_from_at_signs(data)\n",
        "  \n",
        "  # create short df, 10000 of negative sentiments and 10000 of positive sentiments\n",
        "  grouped = data.groupby(cleanup_df.target)\n",
        "  negative_short_group = grouped.get_group(0).head(10000)\n",
        "  positive_short_group = grouped.get_group(4).head(10000)\n",
        "\n",
        "  # combined 2 df's\n",
        "  combined_df = pd.concat([negative_short_group, positive_short_group])\n",
        "  return combined_df"
      ],
      "execution_count": null,
      "outputs": []
    },
    {
      "cell_type": "code",
      "metadata": {
        "id": "RMW_txdCQI1l"
      },
      "source": [
        "short_sentimant_df = create_short_sentiment_file_with_no_mentions(sentimant_df)"
      ],
      "execution_count": null,
      "outputs": []
    },
    {
      "cell_type": "code",
      "metadata": {
        "colab": {
          "base_uri": "https://localhost:8080/",
          "height": 190
        },
        "id": "fvlexoWJh5kw",
        "outputId": "b3e67579-afce-4136-8e71-faa0e63b5b09"
      },
      "source": [
        "short_sentimant_df.head()"
      ],
      "execution_count": null,
      "outputs": [
        {
          "output_type": "execute_result",
          "data": {
            "application/vnd.google.colaboratory.module+javascript": "\n      import \"https://ssl.gstatic.com/colaboratory/data_table/a6224c040fa35dcf/data_table.js\";\n\n      window.createDataTable({\n        data: [[{\n            'v': 1,\n            'f': \"1\",\n        },\n{\n            'v': 0,\n            'f': \"0\",\n        },\n{\n            'v': 1467810672,\n            'f': \"1467810672\",\n        },\n\"Mon Apr 06 22:19:49 PDT 2009\",\n\"NO_QUERY\",\n\"scotthamilton\",\n\"is upset that he can't update his Facebook by texting it... and might cry as a result  School today also. Blah!\"],\n [{\n            'v': 3,\n            'f': \"3\",\n        },\n{\n            'v': 0,\n            'f': \"0\",\n        },\n{\n            'v': 1467811184,\n            'f': \"1467811184\",\n        },\n\"Mon Apr 06 22:19:57 PDT 2009\",\n\"NO_QUERY\",\n\"ElleCTF\",\n\"my whole body feels itchy and like its on fire \"],\n [{\n            'v': 6,\n            'f': \"6\",\n        },\n{\n            'v': 0,\n            'f': \"0\",\n        },\n{\n            'v': 1467811592,\n            'f': \"1467811592\",\n        },\n\"Mon Apr 06 22:20:03 PDT 2009\",\n\"NO_QUERY\",\n\"mybirch\",\n\"Need a hug \"],\n [{\n            'v': 10,\n            'f': \"10\",\n        },\n{\n            'v': 0,\n            'f': \"0\",\n        },\n{\n            'v': 1467812416,\n            'f': \"1467812416\",\n        },\n\"Mon Apr 06 22:20:16 PDT 2009\",\n\"NO_QUERY\",\n\"erinx3leannexo\",\n\"spring break in plain city... it's snowing \"],\n [{\n            'v': 11,\n            'f': \"11\",\n        },\n{\n            'v': 0,\n            'f': \"0\",\n        },\n{\n            'v': 1467812579,\n            'f': \"1467812579\",\n        },\n\"Mon Apr 06 22:20:17 PDT 2009\",\n\"NO_QUERY\",\n\"pardonlauren\",\n\"I just re-pierced my ears \"]],\n        columns: [[\"number\", \"index\"], [\"number\", \"target\"], [\"number\", \"ids\"], [\"string\", \"date\"], [\"string\", \"flag\"], [\"string\", \"user\"], [\"string\", \"text\"]],\n        columnOptions: [{\"width\": \"1px\", \"className\": \"index_column\"}],\n        rowsPerPage: 25,\n        helpUrl: \"https://colab.research.google.com/notebooks/data_table.ipynb\",\n        suppressOutputScrolling: true,\n        minimumWidth: undefined,\n      });\n    ",
            "text/html": [
              "<div>\n",
              "<style scoped>\n",
              "    .dataframe tbody tr th:only-of-type {\n",
              "        vertical-align: middle;\n",
              "    }\n",
              "\n",
              "    .dataframe tbody tr th {\n",
              "        vertical-align: top;\n",
              "    }\n",
              "\n",
              "    .dataframe thead th {\n",
              "        text-align: right;\n",
              "    }\n",
              "</style>\n",
              "<table border=\"1\" class=\"dataframe\">\n",
              "  <thead>\n",
              "    <tr style=\"text-align: right;\">\n",
              "      <th></th>\n",
              "      <th>target</th>\n",
              "      <th>ids</th>\n",
              "      <th>date</th>\n",
              "      <th>flag</th>\n",
              "      <th>user</th>\n",
              "      <th>text</th>\n",
              "    </tr>\n",
              "  </thead>\n",
              "  <tbody>\n",
              "    <tr>\n",
              "      <th>1</th>\n",
              "      <td>0</td>\n",
              "      <td>1467810672</td>\n",
              "      <td>Mon Apr 06 22:19:49 PDT 2009</td>\n",
              "      <td>NO_QUERY</td>\n",
              "      <td>scotthamilton</td>\n",
              "      <td>is upset that he can't update his Facebook by ...</td>\n",
              "    </tr>\n",
              "    <tr>\n",
              "      <th>3</th>\n",
              "      <td>0</td>\n",
              "      <td>1467811184</td>\n",
              "      <td>Mon Apr 06 22:19:57 PDT 2009</td>\n",
              "      <td>NO_QUERY</td>\n",
              "      <td>ElleCTF</td>\n",
              "      <td>my whole body feels itchy and like its on fire</td>\n",
              "    </tr>\n",
              "    <tr>\n",
              "      <th>6</th>\n",
              "      <td>0</td>\n",
              "      <td>1467811592</td>\n",
              "      <td>Mon Apr 06 22:20:03 PDT 2009</td>\n",
              "      <td>NO_QUERY</td>\n",
              "      <td>mybirch</td>\n",
              "      <td>Need a hug</td>\n",
              "    </tr>\n",
              "    <tr>\n",
              "      <th>10</th>\n",
              "      <td>0</td>\n",
              "      <td>1467812416</td>\n",
              "      <td>Mon Apr 06 22:20:16 PDT 2009</td>\n",
              "      <td>NO_QUERY</td>\n",
              "      <td>erinx3leannexo</td>\n",
              "      <td>spring break in plain city... it's snowing</td>\n",
              "    </tr>\n",
              "    <tr>\n",
              "      <th>11</th>\n",
              "      <td>0</td>\n",
              "      <td>1467812579</td>\n",
              "      <td>Mon Apr 06 22:20:17 PDT 2009</td>\n",
              "      <td>NO_QUERY</td>\n",
              "      <td>pardonlauren</td>\n",
              "      <td>I just re-pierced my ears</td>\n",
              "    </tr>\n",
              "  </tbody>\n",
              "</table>\n",
              "</div>"
            ],
            "text/plain": [
              "    target  ...                                               text\n",
              "1        0  ...  is upset that he can't update his Facebook by ...\n",
              "3        0  ...    my whole body feels itchy and like its on fire \n",
              "6        0  ...                                        Need a hug \n",
              "10       0  ...        spring break in plain city... it's snowing \n",
              "11       0  ...                         I just re-pierced my ears \n",
              "\n",
              "[5 rows x 6 columns]"
            ]
          },
          "metadata": {},
          "execution_count": 20
        }
      ]
    },
    {
      "cell_type": "code",
      "metadata": {
        "id": "Rc9PVdZWhBPN"
      },
      "source": [
        "sentiment_to_qa_df = convert_sentiment_data_to_qa_data(short_sentimant_df)"
      ],
      "execution_count": null,
      "outputs": []
    },
    {
      "cell_type": "code",
      "metadata": {
        "colab": {
          "base_uri": "https://localhost:8080/",
          "height": 190
        },
        "id": "sxbTY9mph9es",
        "outputId": "46115777-43d2-4f3a-b71f-a61548e2b546"
      },
      "source": [
        "sentiment_to_qa_df.head()"
      ],
      "execution_count": null,
      "outputs": [
        {
          "output_type": "execute_result",
          "data": {
            "application/vnd.google.colaboratory.module+javascript": "\n      import \"https://ssl.gstatic.com/colaboratory/data_table/a6224c040fa35dcf/data_table.js\";\n\n      window.createDataTable({\n        data: [[{\n            'v': 1,\n            'f': \"1\",\n        },\n\"is upset that he can't update his Facebook by texting it... and might cry as a result  School today also. Blah!\",\n\"would you feel positively about is upset that he can't update his Facebook by texting it... and might cry as a result  School today also. Blah! ?\",\n{\n            'v': 0,\n            'f': \"0\",\n        }],\n [{\n            'v': 3,\n            'f': \"3\",\n        },\n\"my whole body feels itchy and like its on fire \",\n\"would you feel positively about my whole body feels itchy and like its on fire  ?\",\n{\n            'v': 0,\n            'f': \"0\",\n        }],\n [{\n            'v': 6,\n            'f': \"6\",\n        },\n\"Need a hug \",\n\"would you feel positively about Need a hug  ?\",\n{\n            'v': 0,\n            'f': \"0\",\n        }],\n [{\n            'v': 10,\n            'f': \"10\",\n        },\n\"spring break in plain city... it's snowing \",\n\"would you feel positively about spring break in plain city... it's snowing  ?\",\n{\n            'v': 0,\n            'f': \"0\",\n        }],\n [{\n            'v': 11,\n            'f': \"11\",\n        },\n\"I just re-pierced my ears \",\n\"would you feel positively about I just re-pierced my ears  ?\",\n{\n            'v': 0,\n            'f': \"0\",\n        }]],\n        columns: [[\"number\", \"index\"], [\"string\", \"context\"], [\"string\", \"question\"], [\"number\", \"answer\"]],\n        columnOptions: [{\"width\": \"1px\", \"className\": \"index_column\"}],\n        rowsPerPage: 25,\n        helpUrl: \"https://colab.research.google.com/notebooks/data_table.ipynb\",\n        suppressOutputScrolling: true,\n        minimumWidth: undefined,\n      });\n    ",
            "text/html": [
              "<div>\n",
              "<style scoped>\n",
              "    .dataframe tbody tr th:only-of-type {\n",
              "        vertical-align: middle;\n",
              "    }\n",
              "\n",
              "    .dataframe tbody tr th {\n",
              "        vertical-align: top;\n",
              "    }\n",
              "\n",
              "    .dataframe thead th {\n",
              "        text-align: right;\n",
              "    }\n",
              "</style>\n",
              "<table border=\"1\" class=\"dataframe\">\n",
              "  <thead>\n",
              "    <tr style=\"text-align: right;\">\n",
              "      <th></th>\n",
              "      <th>context</th>\n",
              "      <th>question</th>\n",
              "      <th>answer</th>\n",
              "    </tr>\n",
              "  </thead>\n",
              "  <tbody>\n",
              "    <tr>\n",
              "      <th>1</th>\n",
              "      <td>is upset that he can't update his Facebook by ...</td>\n",
              "      <td>would you feel positively about is upset that ...</td>\n",
              "      <td>0</td>\n",
              "    </tr>\n",
              "    <tr>\n",
              "      <th>3</th>\n",
              "      <td>my whole body feels itchy and like its on fire</td>\n",
              "      <td>would you feel positively about my whole body ...</td>\n",
              "      <td>0</td>\n",
              "    </tr>\n",
              "    <tr>\n",
              "      <th>6</th>\n",
              "      <td>Need a hug</td>\n",
              "      <td>would you feel positively about Need a hug  ?</td>\n",
              "      <td>0</td>\n",
              "    </tr>\n",
              "    <tr>\n",
              "      <th>10</th>\n",
              "      <td>spring break in plain city... it's snowing</td>\n",
              "      <td>would you feel positively about spring break i...</td>\n",
              "      <td>0</td>\n",
              "    </tr>\n",
              "    <tr>\n",
              "      <th>11</th>\n",
              "      <td>I just re-pierced my ears</td>\n",
              "      <td>would you feel positively about I just re-pier...</td>\n",
              "      <td>0</td>\n",
              "    </tr>\n",
              "  </tbody>\n",
              "</table>\n",
              "</div>"
            ],
            "text/plain": [
              "                                              context  ... answer\n",
              "1   is upset that he can't update his Facebook by ...  ...      0\n",
              "3     my whole body feels itchy and like its on fire   ...      0\n",
              "6                                         Need a hug   ...      0\n",
              "10        spring break in plain city... it's snowing   ...      0\n",
              "11                         I just re-pierced my ears   ...      0\n",
              "\n",
              "[5 rows x 3 columns]"
            ]
          },
          "metadata": {},
          "execution_count": 22
        }
      ]
    },
    {
      "cell_type": "code",
      "metadata": {
        "id": "_KS7PetnyQYT"
      },
      "source": [
        "# split the data to train and dev\n",
        "sentiment_train_df, sentiment_dev_df = train_test_split(sentiment_to_qa_df, test_size=0.2)"
      ],
      "execution_count": null,
      "outputs": []
    },
    {
      "cell_type": "code",
      "metadata": {
        "id": "UEEHisOYz3K7",
        "colab": {
          "base_uri": "https://localhost:8080/",
          "height": 205
        },
        "outputId": "92c73c36-f90b-4286-b3b5-9731ea3dcdf5"
      },
      "source": [
        "sentiment_train_df.head()"
      ],
      "execution_count": null,
      "outputs": [
        {
          "output_type": "execute_result",
          "data": {
            "application/vnd.google.colaboratory.module+javascript": "\n      import \"https://ssl.gstatic.com/colaboratory/data_table/a6224c040fa35dcf/data_table.js\";\n\n      window.createDataTable({\n        data: [[{\n            'v': 820896,\n            'f': \"820896\",\n        },\n\"just set up my twitter page  the ball has started rolling now, lol\",\n\"would you feel positively about just set up my twitter page  the ball has started rolling now, lol ?\",\n{\n            'v': 4,\n            'f': \"4\",\n        }],\n [{\n            'v': 817372,\n            'f': \"817372\",\n        },\n\"has got tesco finest white choc chip cookies \",\n\"would you feel positively about has got tesco finest white choc chip cookies  ?\",\n{\n            'v': 4,\n            'f': \"4\",\n        }],\n [{\n            'v': 12423,\n            'f': \"12423\",\n        },\n\"[-O] Wishes his vacation started today  http://tinyurl.com/dhzgxd\",\n\"would you feel positively about [-O] Wishes his vacation started today  http://tinyurl.com/dhzgxd ?\",\n{\n            'v': 0,\n            'f': \"0\",\n        }],\n [{\n            'v': 2432,\n            'f': \"2432\",\n        },\n\"will have a meeting in an hour to explain &quot;which version of oAW we use&quot;. What to say? None? atm, it's just a heap of unbundled EMF tools \",\n\"would you feel positively about will have a meeting in an hour to explain &quot;which version of oAW we use&quot;. What to say? None? atm, it's just a heap of unbundled EMF tools  ?\",\n{\n            'v': 0,\n            'f': \"0\",\n        }],\n [{\n            'v': 805037,\n            'f': \"805037\",\n        },\n\"i feel surprisingly alert considering the abundance of alcohol last night and the lack of sleep this morning. \",\n\"would you feel positively about i feel surprisingly alert considering the abundance of alcohol last night and the lack of sleep this morning.  ?\",\n{\n            'v': 4,\n            'f': \"4\",\n        }]],\n        columns: [[\"number\", \"index\"], [\"string\", \"context\"], [\"string\", \"question\"], [\"number\", \"answer\"]],\n        columnOptions: [{\"width\": \"1px\", \"className\": \"index_column\"}],\n        rowsPerPage: 25,\n        helpUrl: \"https://colab.research.google.com/notebooks/data_table.ipynb\",\n        suppressOutputScrolling: true,\n        minimumWidth: undefined,\n      });\n    ",
            "text/html": [
              "<div>\n",
              "<style scoped>\n",
              "    .dataframe tbody tr th:only-of-type {\n",
              "        vertical-align: middle;\n",
              "    }\n",
              "\n",
              "    .dataframe tbody tr th {\n",
              "        vertical-align: top;\n",
              "    }\n",
              "\n",
              "    .dataframe thead th {\n",
              "        text-align: right;\n",
              "    }\n",
              "</style>\n",
              "<table border=\"1\" class=\"dataframe\">\n",
              "  <thead>\n",
              "    <tr style=\"text-align: right;\">\n",
              "      <th></th>\n",
              "      <th>context</th>\n",
              "      <th>question</th>\n",
              "      <th>answer</th>\n",
              "    </tr>\n",
              "  </thead>\n",
              "  <tbody>\n",
              "    <tr>\n",
              "      <th>820896</th>\n",
              "      <td>just set up my twitter page  the ball has star...</td>\n",
              "      <td>would you feel positively about just set up my...</td>\n",
              "      <td>4</td>\n",
              "    </tr>\n",
              "    <tr>\n",
              "      <th>817372</th>\n",
              "      <td>has got tesco finest white choc chip cookies</td>\n",
              "      <td>would you feel positively about has got tesco ...</td>\n",
              "      <td>4</td>\n",
              "    </tr>\n",
              "    <tr>\n",
              "      <th>12423</th>\n",
              "      <td>[-O] Wishes his vacation started today  http:/...</td>\n",
              "      <td>would you feel positively about [-O] Wishes hi...</td>\n",
              "      <td>0</td>\n",
              "    </tr>\n",
              "    <tr>\n",
              "      <th>2432</th>\n",
              "      <td>will have a meeting in an hour to explain &amp;quo...</td>\n",
              "      <td>would you feel positively about will have a me...</td>\n",
              "      <td>0</td>\n",
              "    </tr>\n",
              "    <tr>\n",
              "      <th>805037</th>\n",
              "      <td>i feel surprisingly alert considering the abun...</td>\n",
              "      <td>would you feel positively about i feel surpris...</td>\n",
              "      <td>4</td>\n",
              "    </tr>\n",
              "  </tbody>\n",
              "</table>\n",
              "</div>"
            ],
            "text/plain": [
              "                                                  context  ... answer\n",
              "820896  just set up my twitter page  the ball has star...  ...      4\n",
              "817372      has got tesco finest white choc chip cookies   ...      4\n",
              "12423   [-O] Wishes his vacation started today  http:/...  ...      0\n",
              "2432    will have a meeting in an hour to explain &quo...  ...      0\n",
              "805037  i feel surprisingly alert considering the abun...  ...      4\n",
              "\n",
              "[5 rows x 3 columns]"
            ]
          },
          "metadata": {},
          "execution_count": 24
        }
      ]
    },
    {
      "cell_type": "code",
      "metadata": {
        "colab": {
          "base_uri": "https://localhost:8080/"
        },
        "id": "QNCi_HlufJuU",
        "outputId": "69a5c7f2-e1ee-487b-8f91-26e288d7ef77"
      },
      "source": [
        "sentiment_train_df.answer.value_counts()"
      ],
      "execution_count": null,
      "outputs": [
        {
          "output_type": "execute_result",
          "data": {
            "text/plain": [
              "0    8027\n",
              "4    7973\n",
              "Name: answer, dtype: int64"
            ]
          },
          "metadata": {},
          "execution_count": 25
        }
      ]
    },
    {
      "cell_type": "code",
      "metadata": {
        "id": "-nhKdMSSz58N",
        "colab": {
          "base_uri": "https://localhost:8080/",
          "height": 190
        },
        "outputId": "19262293-2aa3-44d6-ab83-2f4c32aab3a2"
      },
      "source": [
        "sentiment_dev_df.head()"
      ],
      "execution_count": null,
      "outputs": [
        {
          "output_type": "execute_result",
          "data": {
            "application/vnd.google.colaboratory.module+javascript": "\n      import \"https://ssl.gstatic.com/colaboratory/data_table/a6224c040fa35dcf/data_table.js\";\n\n      window.createDataTable({\n        data: [[{\n            'v': 5867,\n            'f': \"5867\",\n        },\n\"off to do the wash, then home to nap, slept for crap, feel like shit \",\n\"would you feel positively about off to do the wash, then home to nap, slept for crap, feel like shit  ?\",\n{\n            'v': 0,\n            'f': \"0\",\n        }],\n [{\n            'v': 819299,\n            'f': \"819299\",\n        },\n\"Wow! Lots of new followers. Nice to mweet you all. \",\n\"would you feel positively about Wow! Lots of new followers. Nice to mweet you all.  ?\",\n{\n            'v': 4,\n            'f': \"4\",\n        }],\n [{\n            'v': 13441,\n            'f': \"13441\",\n        },\n\"I want jbro to comment me! \",\n\"would you feel positively about I want jbro to comment me!  ?\",\n{\n            'v': 0,\n            'f': \"0\",\n        }],\n [{\n            'v': 1985,\n            'f': \"1985\",\n        },\n\"off to work \",\n\"would you feel positively about off to work  ?\",\n{\n            'v': 0,\n            'f': \"0\",\n        }],\n [{\n            'v': 807179,\n            'f': \"807179\",\n        },\n\"Time to get ready for work! \",\n\"would you feel positively about Time to get ready for work!  ?\",\n{\n            'v': 4,\n            'f': \"4\",\n        }]],\n        columns: [[\"number\", \"index\"], [\"string\", \"context\"], [\"string\", \"question\"], [\"number\", \"answer\"]],\n        columnOptions: [{\"width\": \"1px\", \"className\": \"index_column\"}],\n        rowsPerPage: 25,\n        helpUrl: \"https://colab.research.google.com/notebooks/data_table.ipynb\",\n        suppressOutputScrolling: true,\n        minimumWidth: undefined,\n      });\n    ",
            "text/html": [
              "<div>\n",
              "<style scoped>\n",
              "    .dataframe tbody tr th:only-of-type {\n",
              "        vertical-align: middle;\n",
              "    }\n",
              "\n",
              "    .dataframe tbody tr th {\n",
              "        vertical-align: top;\n",
              "    }\n",
              "\n",
              "    .dataframe thead th {\n",
              "        text-align: right;\n",
              "    }\n",
              "</style>\n",
              "<table border=\"1\" class=\"dataframe\">\n",
              "  <thead>\n",
              "    <tr style=\"text-align: right;\">\n",
              "      <th></th>\n",
              "      <th>context</th>\n",
              "      <th>question</th>\n",
              "      <th>answer</th>\n",
              "    </tr>\n",
              "  </thead>\n",
              "  <tbody>\n",
              "    <tr>\n",
              "      <th>5867</th>\n",
              "      <td>off to do the wash, then home to nap, slept fo...</td>\n",
              "      <td>would you feel positively about off to do the ...</td>\n",
              "      <td>0</td>\n",
              "    </tr>\n",
              "    <tr>\n",
              "      <th>819299</th>\n",
              "      <td>Wow! Lots of new followers. Nice to mweet you ...</td>\n",
              "      <td>would you feel positively about Wow! Lots of n...</td>\n",
              "      <td>4</td>\n",
              "    </tr>\n",
              "    <tr>\n",
              "      <th>13441</th>\n",
              "      <td>I want jbro to comment me!</td>\n",
              "      <td>would you feel positively about I want jbro to...</td>\n",
              "      <td>0</td>\n",
              "    </tr>\n",
              "    <tr>\n",
              "      <th>1985</th>\n",
              "      <td>off to work</td>\n",
              "      <td>would you feel positively about off to work  ?</td>\n",
              "      <td>0</td>\n",
              "    </tr>\n",
              "    <tr>\n",
              "      <th>807179</th>\n",
              "      <td>Time to get ready for work!</td>\n",
              "      <td>would you feel positively about Time to get re...</td>\n",
              "      <td>4</td>\n",
              "    </tr>\n",
              "  </tbody>\n",
              "</table>\n",
              "</div>"
            ],
            "text/plain": [
              "                                                  context  ... answer\n",
              "5867    off to do the wash, then home to nap, slept fo...  ...      0\n",
              "819299  Wow! Lots of new followers. Nice to mweet you ...  ...      4\n",
              "13441                         I want jbro to comment me!   ...      0\n",
              "1985                                         off to work   ...      0\n",
              "807179                       Time to get ready for work!   ...      4\n",
              "\n",
              "[5 rows x 3 columns]"
            ]
          },
          "metadata": {},
          "execution_count": 26
        }
      ]
    },
    {
      "cell_type": "code",
      "metadata": {
        "colab": {
          "base_uri": "https://localhost:8080/"
        },
        "id": "2n5V2HtPfaCF",
        "outputId": "b21ef5ba-af53-4884-fb89-d8d5d06f11ce"
      },
      "source": [
        "sentiment_dev_df.answer.value_counts()"
      ],
      "execution_count": null,
      "outputs": [
        {
          "output_type": "execute_result",
          "data": {
            "text/plain": [
              "4    2027\n",
              "0    1973\n",
              "Name: answer, dtype: int64"
            ]
          },
          "metadata": {},
          "execution_count": 27
        }
      ]
    },
    {
      "cell_type": "markdown",
      "metadata": {
        "id": "T_1Z1SSiOs-f"
      },
      "source": [
        "# Building the QA model"
      ]
    },
    {
      "cell_type": "code",
      "metadata": {
        "id": "QFjT7Bn5Osca"
      },
      "source": [
        "class QuestionAnsweringModel(nn.Module):\n",
        "  def __init__(self, device, transformer_model, dropout_proba=0.2):\n",
        "    super().__init__()\n",
        "    self.device = device\n",
        "    self.transformer = transformer_model\n",
        "    self.embed_dim = self.transformer.config.dim\n",
        "\n",
        "    # We replace the head with linear layer\n",
        "    self.qa_head = nn.Linear(in_features=self.embed_dim, out_features=2, bias=True)\n",
        "    self.dropout = nn.Dropout(p=dropout_proba)\n",
        "\n",
        "    self.transformer.to(self.device)\n",
        "\n",
        "  def forward(self, input_enc: dict):\n",
        "    \"\"\"\n",
        "    Forward step for the question-answering model\n",
        "    Parameters\n",
        "    ----------\n",
        "    input_enc - encoding dictionary from the tokenizer.\n",
        "    Returns\n",
        "    -------\n",
        "    start_logit - logit corresponding to the start position of the answer (batch_size, sentence_size, 1)\n",
        "    start_pos - true start position (batch_size, 1) or None\n",
        "    end_logit - logit corresponding to the end position of the answer (batch_size, sentence_size, 1)\n",
        "    end_pos - ture end position (batch_size, 1) or None\n",
        "    \"\"\"\n",
        "\n",
        "    # For real data, start and end positions won't be present\n",
        "    start_pos = input_enc.pop('start_positions', None)\n",
        "    end_pos = input_enc.pop('end_positions', None)\n",
        "\n",
        "    # For training, transform start and end position lists into tensors\n",
        "    input_ids = input_enc['input_ids'].to(self.device)\n",
        "    attention_mask = input_enc['attention_mask'].to(self.device)\n",
        "\n",
        "    trans_out = self.transformer(input_ids, attention_mask=attention_mask)\n",
        "\n",
        "    # Extract hidden state from the transformer\n",
        "    hidden_out = trans_out.last_hidden_state  # (batch_size, len_sentence, embed_dim)\n",
        "    hidden_out = self.dropout(hidden_out)  # (batch_size, len_sentence, embed_dim)\n",
        "\n",
        "    # Pass through the linear layer, we need to learn it's parameters\n",
        "    out = self.qa_head(hidden_out)  # (batch_size, len_sentence, 2)\n",
        "\n",
        "    start_logit, end_logit = out.split(1, dim=-1)\n",
        "    start_logit = start_logit.squeeze(-1)  # (bs, max_query_len)\n",
        "    end_logit = end_logit.squeeze(-1)\n",
        "\n",
        "    if start_pos is not None and end_pos is not None:\n",
        "      start_pos = torch.LongTensor(start_pos)\n",
        "      end_pos = torch.LongTensor(end_pos)\n",
        "\n",
        "    return start_logit, start_pos, end_logit, end_pos  # , ignored_index\n",
        "\n",
        "  def compute_loss(self, start_logit, start_pos, end_logit, end_pos):\n",
        "    \"\"\"\n",
        "    Loss function for question-answering task\n",
        "    Parameters\n",
        "    ----------\n",
        "    start_logit - logit corresponding to the start position of the answer (batch_size, sentence_size, 1)\n",
        "    start_pos - true start position (batch_size, 1)\n",
        "    end_logit - logit corresponding to the end position of the answer (batch_size, sentence_size, 1)\n",
        "    end_pos - ture end position (batch_size, 1)\n",
        "    Returns\n",
        "    -------\n",
        "    1D Tensor loss\n",
        "    \"\"\"\n",
        "\n",
        "    ignored_index = start_logit.size(1)\n",
        "    start_pos.clamp_(0, ignored_index)\n",
        "    end_pos.clamp_(0, ignored_index)\n",
        "\n",
        "    loss_fun = nn.CrossEntropyLoss(ignore_index=ignored_index)\n",
        "\n",
        "    start_logit_g = start_logit.to(self.device, non_blocking=True)\n",
        "    end_logit_g = end_logit.to(self.device, non_blocking=True)\n",
        "    start_pos_g = start_pos.to(self.device, non_blocking=True)\n",
        "    end_pos_g = end_pos.to(self.device, non_blocking=True)\n",
        "\n",
        "    start_loss = loss_fun(start_logit_g, start_pos_g)\n",
        "    end_loss = loss_fun(end_logit_g, end_pos_g)\n",
        "\n",
        "    return (start_loss + end_loss) / 2"
      ],
      "execution_count": null,
      "outputs": []
    },
    {
      "cell_type": "markdown",
      "metadata": {
        "id": "2ok26lui48KE"
      },
      "source": [
        "The following class reads the data straight from the json. We can decide to use the DF and then convert some of the logic, or we can use Jsons as well (which seems like a resonable choice)"
      ]
    },
    {
      "cell_type": "code",
      "metadata": {
        "id": "DY7z0u7V46ge"
      },
      "source": [
        "class PreProcessor:\n",
        "  def __init__(self):\n",
        "    self.tokenizer = DistilBertTokenizerFast.from_pretrained('distilbert-base-uncased')\n",
        "\n",
        "  # Similar to what we have here: https://huggingface.co/transformers/master/custom_datasets.html#qa-squad\n",
        "  # The other guy built a reader which handles impossible answers. Not sure we need it.\n",
        "  @staticmethod\n",
        "  def read(data):\n",
        "\n",
        "    contexts = []\n",
        "    questions = []\n",
        "    answers = []\n",
        "\n",
        "    for index, row in data.iterrows():\n",
        "      contexts.append(row['context'])\n",
        "      questions.append(row['question'])\n",
        "      answers.append({'answer': row['answer']})\n",
        "\n",
        "    return contexts, questions, answers\n",
        "\n",
        "  @staticmethod\n",
        "  def add_end_idx(answers: list, contexts):\n",
        "    for answer, context in zip(answers, contexts):\n",
        "      start_idx = 0\n",
        "      end_idx = start_idx + len(context) - 1\n",
        "      answer['answer_start'] = start_idx\n",
        "      answer['answer_end'] = end_idx\n",
        "\n",
        "  def add_token_positions(self, encodings, answers):\n",
        "    start_positions = []\n",
        "    end_positions = []\n",
        "    for i in range(len(answers)):\n",
        "      start_positions.append(encodings.char_to_token(i, answers[i]['answer_start']))\n",
        "      end_positions.append(encodings.char_to_token(i, answers[i]['answer_end'] - 1))\n",
        "\n",
        "      # if None, the answer passage has been truncated\n",
        "      if start_positions[-1] is None:\n",
        "        start_positions[-1] = self.tokenizer.model_max_length\n",
        "      if end_positions[-1] is None:\n",
        "        end_positions[-1] = self.tokenizer.model_max_length\n",
        "\n",
        "    encodings.update({'start_positions': start_positions, 'end_positions': end_positions})\n",
        "\n",
        "  def get_encodings(self):\n",
        "    train_contexts, train_questions, train_answers = self.read(sentiment_train_df)\n",
        "    dev_contexts, dev_questions, dev_answers = self.read(sentiment_dev_df)\n",
        "\n",
        "    # These require two different sequences to be joined in a single “input_ids” entry, which usually is performed\n",
        "    # with the help of special tokens, such as the classifier ([CLS]) and separator ([SEP]) tokens. For example,\n",
        "    # the BERT model builds its two sequence input as such:\n",
        "    # [CLS] SEQUENCE_A [SEP] SEQUENCE_B [SEP]\n",
        "    \n",
        "    self.add_end_idx(train_answers, train_contexts)\n",
        "    self.add_end_idx(dev_answers, dev_contexts)\n",
        "\n",
        "    train_encodings = self.tokenizer(train_contexts, train_questions, truncation=True, padding=True)\n",
        "    dev_encodings = self.tokenizer(dev_contexts, dev_questions, truncation=True, padding=True)\n",
        "\n",
        "    self.add_token_positions(train_encodings, train_answers)\n",
        "    self.add_token_positions(dev_encodings, dev_answers)\n",
        "    return train_encodings, dev_encodings"
      ],
      "execution_count": null,
      "outputs": []
    },
    {
      "cell_type": "code",
      "metadata": {
        "id": "y0VrvYQaDFfr"
      },
      "source": [
        "class SquadDataset(torch.utils.data.Dataset):\n",
        "  def __init__(self, encodings):\n",
        "    self.encodings = encodings\n",
        "\n",
        "  def __getitem__(self, idx):\n",
        "    # idx can be a slice, e.g. 1:100\n",
        "    return {key: torch.tensor(val[idx]) for key, val in self.encodings.items()}\n",
        "\n",
        "  def __len__(self):\n",
        "    return len(self.encodings.input_ids)"
      ],
      "execution_count": null,
      "outputs": []
    },
    {
      "cell_type": "markdown",
      "metadata": {
        "id": "1LRb7qYQJJgO"
      },
      "source": [
        "### train"
      ]
    },
    {
      "cell_type": "code",
      "metadata": {
        "id": "-Xs7qGI4FDP6"
      },
      "source": [
        "def qa_test(model ,dev_dataloader):\n",
        "  loss_calc = 0.0\n",
        "\n",
        "  for dev_data in dev_dataloader:\n",
        "    with torch.no_grad():\n",
        "      model_out = model(dev_data)\n",
        "      \n",
        "    loss = model.compute_loss(*model_out)\n",
        "    loss_calc += loss.item()\n",
        "\n",
        "  loss = loss_calc / len(dev_dataloader)\n",
        "  return loss\n",
        "\n",
        "def qa_train(model, train_dataloader, dev_dataloader, log = 100, epoch = 10):\n",
        "  print(\"Start training\")\n",
        "  train_iter = 0\n",
        "  train_loss_array = []\n",
        "  dev_loss_array = []\n",
        "\n",
        "  model.to(device)\n",
        "  model.train()\n",
        "  \n",
        "  optimizer = AdamW(model.parameters(), lr=5e-5)\n",
        "  \n",
        "  for e in range(1, epoch + 1):\n",
        "    running_loss = 0.0\n",
        "    train_loss = 0.0\n",
        "    train_iter = 0\n",
        "    print('\\n======== Epoch {:} / {:} ========'.format(e, epoch))\n",
        "\n",
        "    for train_data in train_dataloader:\n",
        "      train_iter += 1\n",
        "      optimizer.zero_grad()\n",
        "      model_out = model(train_data)\n",
        "      loss = model.compute_loss(*model_out)\n",
        "      loss.backward()\n",
        "      optimizer.step()\n",
        "\n",
        "      train_loss += loss.item()\n",
        "      running_loss += loss.item()\n",
        "      \n",
        "      if train_iter % log == 0:\n",
        "        print('Batch {:>5,}  of  {:>5,} Loss: {:.5f}' .format(train_iter , len(train_dataloader), running_loss / log))\n",
        "        running_loss = 0.0\n",
        "\n",
        "    # calculate train loss for epoch\n",
        "    train_loss_calc = train_loss / len(train_dataloader)\n",
        "    train_loss_array.append(train_loss_calc)\n",
        "\n",
        "    print('\\n======== Epoch {:>3} Average Train Loss {:.5f} ========'.format(e, train_loss_calc))\n",
        "\n",
        "    model.eval()\n",
        "    dev_loss_calc = qa_test(model, dev_dataloader)\n",
        "    dev_loss_array.append(dev_loss_calc)\n",
        "    print('\\n======== Epoch {:>3} Average Dev Loss {:.5f} ========\\n\\n'.format(e, dev_loss_calc))\n",
        "    model.train()\n",
        "\n",
        "  print(\"Finish training\")\n",
        "  return model, train_loss_array, dev_loss_array"
      ],
      "execution_count": null,
      "outputs": []
    },
    {
      "cell_type": "markdown",
      "metadata": {
        "id": "aqIJy_9LJNst"
      },
      "source": [
        "### after train - change this name"
      ]
    },
    {
      "cell_type": "code",
      "metadata": {
        "id": "VyED4dp2-_cL"
      },
      "source": [
        "pre_processor = PreProcessor()\n",
        "train_enc, dev_enc = pre_processor.get_encodings()"
      ],
      "execution_count": null,
      "outputs": []
    },
    {
      "cell_type": "code",
      "metadata": {
        "id": "NYTfZZg-Vn26",
        "colab": {
          "base_uri": "https://localhost:8080/"
        },
        "outputId": "95d5ea06-afb4-4ad1-9e29-086f1726e5e3"
      },
      "source": [
        "train_ds = SquadDataset(train_enc)\n",
        "train_dl = DataLoader(train_ds, batch_size = 16)\n",
        "print(\"train_dl len = \", len(train_dl))"
      ],
      "execution_count": null,
      "outputs": [
        {
          "output_type": "stream",
          "name": "stdout",
          "text": [
            "train_dl len =  1000\n"
          ]
        }
      ]
    },
    {
      "cell_type": "code",
      "metadata": {
        "colab": {
          "base_uri": "https://localhost:8080/"
        },
        "id": "Sj-P-D-HOU_G",
        "outputId": "901a80e2-bcee-4ecb-f8db-fb848e305ae8"
      },
      "source": [
        "dev_ds = SquadDataset(dev_enc)\n",
        "dev_dl = DataLoader(dev_ds, batch_size = 32)\n",
        "print(\"dev_dl len = \", len(dev_dl))"
      ],
      "execution_count": null,
      "outputs": [
        {
          "output_type": "stream",
          "name": "stdout",
          "text": [
            "dev_dl len =  125\n"
          ]
        }
      ]
    },
    {
      "cell_type": "code",
      "metadata": {
        "id": "8wYFcD0X5KuQ",
        "colab": {
          "base_uri": "https://localhost:8080/",
          "height": 48,
          "referenced_widgets": [
            "54a412ae1ea0408ba95a828374c12941",
            "c136579f9b354fe98be2277fee988857",
            "ba6df21ba8ca4e6cb2c9543aa35a159a",
            "ac7ab96e502348508543dcb3d8967d70",
            "7a006b7ed57441ec8402c33f476ea858",
            "3d79a488493e466498c31bed628efec9",
            "87749fefcbb1479bb1620faba43f0ab2",
            "a8c3946750974b9f8aff6c5f0fcfada6",
            "d1f07f0b61c04e1b9b4f8dfc6c605e4a",
            "78519685a71849b3a93ccd4e9fa0cc6f",
            "147c259bca6446b68910465daa7b6255"
          ]
        },
        "outputId": "ec442085-f010-4f2e-9968-f2d81d96309c"
      },
      "source": [
        "qa_dbm = DistilBertModel.from_pretrained('distilbert-base-uncased', return_dict=True)"
      ],
      "execution_count": null,
      "outputs": [
        {
          "output_type": "display_data",
          "data": {
            "application/vnd.jupyter.widget-view+json": {
              "model_id": "54a412ae1ea0408ba95a828374c12941",
              "version_minor": 0,
              "version_major": 2
            },
            "text/plain": [
              "Downloading:   0%|          | 0.00/268M [00:00<?, ?B/s]"
            ]
          },
          "metadata": {}
        }
      ]
    },
    {
      "cell_type": "code",
      "metadata": {
        "id": "PeGTrPxkKxm_"
      },
      "source": [
        "qa_model = QuestionAnsweringModel(device, transformer_model = qa_dbm).to(device)"
      ],
      "execution_count": null,
      "outputs": []
    },
    {
      "cell_type": "code",
      "metadata": {
        "id": "pHv1ACW4Nvk0",
        "colab": {
          "base_uri": "https://localhost:8080/"
        },
        "outputId": "58ebd0ff-4ae2-4863-9f6b-90aa3facc5b5"
      },
      "source": [
        "qa_trained_model ,qa_train_loss_calc, qa_dev_loss_calc = qa_train(qa_model, train_dl, dev_dl, log = 100, epoch = epochs)"
      ],
      "execution_count": null,
      "outputs": [
        {
          "output_type": "stream",
          "name": "stdout",
          "text": [
            "Start training\n",
            "\n",
            "======== Epoch 1 / 10 ========\n",
            "Batch   100  of  1,000 Loss: 0.81039\n",
            "Batch   200  of  1,000 Loss: 0.16452\n",
            "Batch   300  of  1,000 Loss: 0.13640\n",
            "Batch   400  of  1,000 Loss: 0.13122\n",
            "Batch   500  of  1,000 Loss: 0.15408\n",
            "Batch   600  of  1,000 Loss: 0.13755\n",
            "Batch   700  of  1,000 Loss: 0.14646\n",
            "Batch   800  of  1,000 Loss: 0.13936\n",
            "Batch   900  of  1,000 Loss: 0.12572\n",
            "Batch 1,000  of  1,000 Loss: 0.13753\n",
            "\n",
            "======== Epoch   1 Average Train Loss 0.20832 ========\n",
            "\n",
            "======== Epoch   1 Average Dev Loss 0.13754 ========\n",
            "\n",
            "\n",
            "\n",
            "======== Epoch 2 / 10 ========\n",
            "Batch   100  of  1,000 Loss: 0.13408\n",
            "Batch   200  of  1,000 Loss: 0.12447\n",
            "Batch   300  of  1,000 Loss: 0.11842\n",
            "Batch   400  of  1,000 Loss: 0.11071\n",
            "Batch   500  of  1,000 Loss: 0.12522\n",
            "Batch   600  of  1,000 Loss: 0.11799\n",
            "Batch   700  of  1,000 Loss: 0.10970\n",
            "Batch   800  of  1,000 Loss: 0.10890\n",
            "Batch   900  of  1,000 Loss: 0.10853\n",
            "Batch 1,000  of  1,000 Loss: 0.09913\n",
            "\n",
            "======== Epoch   2 Average Train Loss 0.11571 ========\n",
            "\n",
            "======== Epoch   2 Average Dev Loss 0.12753 ========\n",
            "\n",
            "\n",
            "\n",
            "======== Epoch 3 / 10 ========\n",
            "Batch   100  of  1,000 Loss: 0.09911\n",
            "Batch   200  of  1,000 Loss: 0.09124\n",
            "Batch   300  of  1,000 Loss: 0.07968\n",
            "Batch   400  of  1,000 Loss: 0.07169\n",
            "Batch   500  of  1,000 Loss: 0.09553\n",
            "Batch   600  of  1,000 Loss: 0.08724\n",
            "Batch   700  of  1,000 Loss: 0.07506\n",
            "Batch   800  of  1,000 Loss: 0.08223\n",
            "Batch   900  of  1,000 Loss: 0.07483\n",
            "Batch 1,000  of  1,000 Loss: 0.07138\n",
            "\n",
            "======== Epoch   3 Average Train Loss 0.08280 ========\n",
            "\n",
            "======== Epoch   3 Average Dev Loss 0.20325 ========\n",
            "\n",
            "\n",
            "\n",
            "======== Epoch 4 / 10 ========\n",
            "Batch   100  of  1,000 Loss: 0.06512\n",
            "Batch   200  of  1,000 Loss: 0.05728\n",
            "Batch   300  of  1,000 Loss: 0.04702\n",
            "Batch   400  of  1,000 Loss: 0.03689\n",
            "Batch   500  of  1,000 Loss: 0.05406\n",
            "Batch   600  of  1,000 Loss: 0.04080\n",
            "Batch   700  of  1,000 Loss: 0.04233\n",
            "Batch   800  of  1,000 Loss: 0.02729\n",
            "Batch   900  of  1,000 Loss: 0.03851\n",
            "Batch 1,000  of  1,000 Loss: 0.03818\n",
            "\n",
            "======== Epoch   4 Average Train Loss 0.04475 ========\n",
            "\n",
            "======== Epoch   4 Average Dev Loss 0.17393 ========\n",
            "\n",
            "\n",
            "\n",
            "======== Epoch 5 / 10 ========\n",
            "Batch   100  of  1,000 Loss: 0.04100\n",
            "Batch   200  of  1,000 Loss: 0.03323\n",
            "Batch   300  of  1,000 Loss: 0.02325\n",
            "Batch   400  of  1,000 Loss: 0.02501\n",
            "Batch   500  of  1,000 Loss: 0.02966\n",
            "Batch   600  of  1,000 Loss: 0.03236\n",
            "Batch   700  of  1,000 Loss: 0.02241\n",
            "Batch   800  of  1,000 Loss: 0.01274\n",
            "Batch   900  of  1,000 Loss: 0.01902\n",
            "Batch 1,000  of  1,000 Loss: 0.02886\n",
            "\n",
            "======== Epoch   5 Average Train Loss 0.02675 ========\n",
            "\n",
            "======== Epoch   5 Average Dev Loss 0.19239 ========\n",
            "\n",
            "\n",
            "\n",
            "======== Epoch 6 / 10 ========\n",
            "Batch   100  of  1,000 Loss: 0.01038\n",
            "Batch   200  of  1,000 Loss: 0.01334\n",
            "Batch   300  of  1,000 Loss: 0.01362\n",
            "Batch   400  of  1,000 Loss: 0.01120\n",
            "Batch   500  of  1,000 Loss: 0.01519\n",
            "Batch   600  of  1,000 Loss: 0.01779\n",
            "Batch   700  of  1,000 Loss: 0.01158\n",
            "Batch   800  of  1,000 Loss: 0.01222\n",
            "Batch   900  of  1,000 Loss: 0.01587\n",
            "Batch 1,000  of  1,000 Loss: 0.01086\n",
            "\n",
            "======== Epoch   6 Average Train Loss 0.01320 ========\n",
            "\n",
            "======== Epoch   6 Average Dev Loss 0.24576 ========\n",
            "\n",
            "\n",
            "\n",
            "======== Epoch 7 / 10 ========\n",
            "Batch   100  of  1,000 Loss: 0.01409\n",
            "Batch   200  of  1,000 Loss: 0.01368\n",
            "Batch   300  of  1,000 Loss: 0.00836\n",
            "Batch   400  of  1,000 Loss: 0.00622\n",
            "Batch   500  of  1,000 Loss: 0.01474\n",
            "Batch   600  of  1,000 Loss: 0.01455\n",
            "Batch   700  of  1,000 Loss: 0.00715\n",
            "Batch   800  of  1,000 Loss: 0.01769\n",
            "Batch   900  of  1,000 Loss: 0.01282\n",
            "Batch 1,000  of  1,000 Loss: 0.00924\n",
            "\n",
            "======== Epoch   7 Average Train Loss 0.01185 ========\n",
            "\n",
            "======== Epoch   7 Average Dev Loss 0.33620 ========\n",
            "\n",
            "\n",
            "\n",
            "======== Epoch 8 / 10 ========\n",
            "Batch   100  of  1,000 Loss: 0.01880\n",
            "Batch   200  of  1,000 Loss: 0.01697\n",
            "Batch   300  of  1,000 Loss: 0.00764\n",
            "Batch   400  of  1,000 Loss: 0.01140\n",
            "Batch   500  of  1,000 Loss: 0.01181\n",
            "Batch   600  of  1,000 Loss: 0.00483\n",
            "Batch   700  of  1,000 Loss: 0.01190\n",
            "Batch   800  of  1,000 Loss: 0.01221\n",
            "Batch   900  of  1,000 Loss: 0.00694\n",
            "Batch 1,000  of  1,000 Loss: 0.00886\n",
            "\n",
            "======== Epoch   8 Average Train Loss 0.01114 ========\n",
            "\n",
            "======== Epoch   8 Average Dev Loss 0.32832 ========\n",
            "\n",
            "\n",
            "\n",
            "======== Epoch 9 / 10 ========\n",
            "Batch   100  of  1,000 Loss: 0.01092\n",
            "Batch   200  of  1,000 Loss: 0.00902\n",
            "Batch   300  of  1,000 Loss: 0.00227\n",
            "Batch   400  of  1,000 Loss: 0.01373\n",
            "Batch   500  of  1,000 Loss: 0.00861\n",
            "Batch   600  of  1,000 Loss: 0.00948\n",
            "Batch   700  of  1,000 Loss: 0.00881\n",
            "Batch   800  of  1,000 Loss: 0.00532\n",
            "Batch   900  of  1,000 Loss: 0.01722\n",
            "Batch 1,000  of  1,000 Loss: 0.00279\n",
            "\n",
            "======== Epoch   9 Average Train Loss 0.00882 ========\n",
            "\n",
            "======== Epoch   9 Average Dev Loss 0.46378 ========\n",
            "\n",
            "\n",
            "\n",
            "======== Epoch 10 / 10 ========\n",
            "Batch   100  of  1,000 Loss: 0.00893\n",
            "Batch   200  of  1,000 Loss: 0.00798\n",
            "Batch   300  of  1,000 Loss: 0.00702\n",
            "Batch   400  of  1,000 Loss: 0.00716\n",
            "Batch   500  of  1,000 Loss: 0.00510\n",
            "Batch   600  of  1,000 Loss: 0.00611\n",
            "Batch   700  of  1,000 Loss: 0.01047\n",
            "Batch   800  of  1,000 Loss: 0.00378\n",
            "Batch   900  of  1,000 Loss: 0.00716\n",
            "Batch 1,000  of  1,000 Loss: 0.00803\n",
            "\n",
            "======== Epoch  10 Average Train Loss 0.00717 ========\n",
            "\n",
            "======== Epoch  10 Average Dev Loss 0.35231 ========\n",
            "\n",
            "\n",
            "Finish training\n"
          ]
        }
      ]
    },
    {
      "cell_type": "markdown",
      "metadata": {
        "id": "wI9MkQ-3gby9"
      },
      "source": [
        "### Eval"
      ]
    },
    {
      "cell_type": "code",
      "metadata": {
        "id": "ROj99SF1BF7m"
      },
      "source": [
        "def qa_eval(trained_model, dev_dataloader):\n",
        "\n",
        "  # switch model out of training mode\n",
        "  trained_model.eval()\n",
        "  acc = []\n",
        "  with torch.no_grad():  # Disable gradient tracking for evaluation\n",
        "    for dev_data in dev_dataloader:\n",
        "      # pull batched items from loader\n",
        "      input_ids = dev_data['input_ids'].to(device)\n",
        "      attention_mask = dev_data['attention_mask'].to(device)\n",
        "      start_true = dev_data['start_positions'].to(device)\n",
        "      end_true = dev_data['end_positions'].to(device)\n",
        "      \n",
        "      # make predictions\n",
        "      start_logits, _, end_logits, _ = trained_model(dev_data)\n",
        "\n",
        "      # pull preds out\n",
        "      start_pred = torch.argmax(start_logits, dim=1)\n",
        "      end_pred = torch.argmax(end_logits, dim=1)\n",
        "      \n",
        "      # calculate accuracy for both and append to accuracy list\n",
        "      acc.append(((start_pred == start_true).sum()/len(start_pred)).item())\n",
        "      acc.append(((end_pred == end_true).sum()/len(end_pred)).item())\n",
        "  \n",
        "  # calculate average accuracy in total\n",
        "  acc = sum(acc)/len(acc)\n",
        "  print('Accuracy of the network on the test images: {:.2f} %'.format(100*acc))"
      ],
      "execution_count": null,
      "outputs": []
    },
    {
      "cell_type": "code",
      "metadata": {
        "id": "SPK2SX0beVJi",
        "colab": {
          "base_uri": "https://localhost:8080/"
        },
        "outputId": "da9cd253-d8b6-4fa5-8434-18635c90fa87"
      },
      "source": [
        "qa_eval(qa_trained_model, dev_dl)"
      ],
      "execution_count": null,
      "outputs": [
        {
          "output_type": "stream",
          "name": "stdout",
          "text": [
            "Accuracy of the network on the test images: 91.83 %\n"
          ]
        }
      ]
    },
    {
      "cell_type": "markdown",
      "metadata": {
        "id": "dQ30WoM5oIet"
      },
      "source": [
        "### **Plot - QA Model**"
      ]
    },
    {
      "cell_type": "code",
      "metadata": {
        "id": "iyk3t5t6rPhl",
        "colab": {
          "base_uri": "https://localhost:8080/",
          "height": 463
        },
        "outputId": "c218e5df-b254-4b90-b6e8-40e2a9b1ff26"
      },
      "source": [
        "create_plot_one_array(qa_train_loss_calc, 'Train Loss', 'Epochs', 'Loss', 'Loss Vs. Epochs', epoch = epochs)"
      ],
      "execution_count": null,
      "outputs": [
        {
          "output_type": "display_data",
          "data": {
            "image/png": "[encoded data removed]",
            "text/plain": [
              "<Figure size 1080x504 with 1 Axes>"
            ]
          },
          "metadata": {
            "needs_background": "light"
          }
        }
      ]
    },
    {
      "cell_type": "markdown",
      "metadata": {
        "id": "Va6v0tSZicfM"
      },
      "source": [
        "# Sentiment Analysis Model"
      ]
    },
    {
      "cell_type": "code",
      "metadata": {
        "id": "pirM4UomkK3e"
      },
      "source": [
        "# Randomize\n",
        "seed_val = 17\n",
        "random.seed(seed_val)\n",
        "np.random.seed(seed_val)\n",
        "torch.manual_seed(seed_val)\n",
        "torch.cuda.manual_seed_all(seed_val)"
      ],
      "execution_count": null,
      "outputs": []
    },
    {
      "cell_type": "code",
      "metadata": {
        "id": "qk8esk1-oICe",
        "colab": {
          "base_uri": "https://localhost:8080/",
          "height": 144,
          "referenced_widgets": [
            "5c1c41dc51de4032b9449b6c46434bfe",
            "c2d5f4ebd1ea494ca6fe2cb544a9aee5",
            "8570935e8cae4551b7befc882e7255dc",
            "fd0f6ba8dd034a599b1cf269a8c63edf",
            "4746be7b79174eb69e6d4ba26eb21863",
            "36d4674b97b84f8ebb1d166affa5080d",
            "e2f9b2670f314337a4034a6e96881335",
            "6bc2d40e282e407383c57be319473f96",
            "07590e4cc4bd4ecaa81ab0fb9a19f3c9",
            "2c3c54b4087c4e2992df19b48a299c03",
            "ca573165f8bb41b2ac4a64930fb4cd52",
            "e46241c5cc734ea6b648999f19380f05",
            "0eb2ee6d921d4086b8da9f7694486448",
            "abb8ad151307459a9eb86be276508018",
            "213b832d89e2477d98aafdede5ba5e5b",
            "d884daaaac9041229c78639202e83915",
            "b2780ac0f88c432ea8c85df7b780e127",
            "804c9410a7e54080a52002adad26f64d",
            "57d2e03249c54b208052a53fba3c3d38",
            "ff7b0378fa4a4775b98163df580b804e",
            "bd050ac4ca1c49699fe5c82fde37840d",
            "a1c0bed345ee486db32ca940b95eb868",
            "2c6ffc97299949dab88d5cb909d28dd9",
            "9215428e816e4229b287821cb3130128",
            "ac282806c9384d5e9d1f09deab19a43d",
            "d71924462c2d4aa382a7ddc7143222b9",
            "6d6d4c2bb516446fba22618a48e951d8",
            "4b4cae365dd44b18bc4a36fe099d8f5d",
            "9ff24307e65e4ccf974c482503a52a08",
            "2e453d7c559b4ddc81d1854ba7f172ea",
            "1ea5c9a083b64837935da4e41b76fdd5",
            "6e80916c65ad48b9aeb4422e7796a921",
            "90335f37202a4a5ea5c880f132a6a162",
            "3ad2b686dfb746728edf075e67353e30",
            "d6cc0167d65444ed9fa2a0055f7e4731",
            "3d6e4aa062074ce6abb90122d609abc9",
            "9026260a545e4ca4ab58569247a8c321",
            "649d83c38f2a4a6eaa38a52c48455755",
            "7a5456cae8fb42e1ae99044e3d179102",
            "6be3fd4992dc48b6a07f17a3df7546c6",
            "86573e98c07546cba1e0cc3bb8969921",
            "abfcd46b9b6446ef94ccd64af1b5f626",
            "89c227311421410c8ffbb6fbb80b6da1",
            "ee836fca476b4d16b15de9af551b48b2"
          ]
        },
        "outputId": "0ae00a33-af67-4a40-f0e6-ea1877739850"
      },
      "source": [
        "tokenizer = BertTokenizer.from_pretrained('bert-base-uncased', do_lower_case = True)"
      ],
      "execution_count": null,
      "outputs": [
        {
          "output_type": "display_data",
          "data": {
            "application/vnd.jupyter.widget-view+json": {
              "model_id": "5c1c41dc51de4032b9449b6c46434bfe",
              "version_minor": 0,
              "version_major": 2
            },
            "text/plain": [
              "Downloading:   0%|          | 0.00/232k [00:00<?, ?B/s]"
            ]
          },
          "metadata": {}
        },
        {
          "output_type": "display_data",
          "data": {
            "application/vnd.jupyter.widget-view+json": {
              "model_id": "e46241c5cc734ea6b648999f19380f05",
              "version_minor": 0,
              "version_major": 2
            },
            "text/plain": [
              "Downloading:   0%|          | 0.00/28.0 [00:00<?, ?B/s]"
            ]
          },
          "metadata": {}
        },
        {
          "output_type": "display_data",
          "data": {
            "application/vnd.jupyter.widget-view+json": {
              "model_id": "2c6ffc97299949dab88d5cb909d28dd9",
              "version_minor": 0,
              "version_major": 2
            },
            "text/plain": [
              "Downloading:   0%|          | 0.00/466k [00:00<?, ?B/s]"
            ]
          },
          "metadata": {}
        },
        {
          "output_type": "display_data",
          "data": {
            "application/vnd.jupyter.widget-view+json": {
              "model_id": "3ad2b686dfb746728edf075e67353e30",
              "version_minor": 0,
              "version_major": 2
            },
            "text/plain": [
              "Downloading:   0%|          | 0.00/570 [00:00<?, ?B/s]"
            ]
          },
          "metadata": {}
        }
      ]
    },
    {
      "cell_type": "code",
      "metadata": {
        "id": "dIIWS4oWoRwE"
      },
      "source": [
        "encoder_train = tokenizer.batch_encode_plus(sentiment_train_df.question.values, add_special_tokens = True, return_attention_masks = True, pad_to_max_length = True, max_length = 256, return_tensors = 'pt')"
      ],
      "execution_count": null,
      "outputs": []
    },
    {
      "cell_type": "code",
      "metadata": {
        "id": "XNET2zdQqDP2"
      },
      "source": [
        "encoder_dev = tokenizer.batch_encode_plus(sentiment_dev_df.question.values, add_special_tokens = True, return_attention_masks = True, pad_to_max_length = True, max_length = 256, return_tensors = 'pt')"
      ],
      "execution_count": null,
      "outputs": []
    },
    {
      "cell_type": "code",
      "metadata": {
        "id": "pY26G4DssouS"
      },
      "source": [
        "data_train = TensorDataset(encoder_train['input_ids'] , encoder_train[\"attention_mask\"], torch.tensor(sentiment_train_df.answer.values))\n",
        "data_dev = TensorDataset(encoder_dev['input_ids'], encoder_dev[\"attention_mask\"], torch.tensor(sentiment_dev_df.answer.values))"
      ],
      "execution_count": null,
      "outputs": []
    },
    {
      "cell_type": "markdown",
      "metadata": {
        "id": "SmK-v2T5tO4y"
      },
      "source": [
        "#### Adding the model"
      ]
    },
    {
      "cell_type": "code",
      "metadata": {
        "id": "0jNfx2vntSUD",
        "colab": {
          "base_uri": "https://localhost:8080/",
          "height": 48,
          "referenced_widgets": [
            "3420c02820ac4be1983c9fd5848d4c73",
            "71c7624744704bdaa32e33488ac4a0cb",
            "e200585967b04edc8be960d81888c0bd",
            "03fca39e21bd40359ca35b14abd1ac32",
            "23ee61e060dc43cdbdce35431b0ca176",
            "443c761f74604c4eb9332325c1d3cb5d",
            "91ae8934f8ed4b45a9f5adfedd17de3f",
            "da791b0ca11c445ca7e13947811cb68f",
            "31bc82eb55d341efa404b4c86c01b7e3",
            "c0ea6872c36f45308c74c39841342176",
            "ecf8eaf3f2d641d49e029643c58eb2eb"
          ]
        },
        "outputId": "23e2e714-d979-4e8d-f1c2-8ee026f7463e"
      },
      "source": [
        "sa_model = BertForSequenceClassification.from_pretrained('bert-base-uncased', num_labels = 20000, output_attentions = False, output_hidden_states = False).to(device)"
      ],
      "execution_count": null,
      "outputs": [
        {
          "output_type": "display_data",
          "data": {
            "application/vnd.jupyter.widget-view+json": {
              "model_id": "3420c02820ac4be1983c9fd5848d4c73",
              "version_minor": 0,
              "version_major": 2
            },
            "text/plain": [
              "Downloading:   0%|          | 0.00/440M [00:00<?, ?B/s]"
            ]
          },
          "metadata": {}
        }
      ]
    },
    {
      "cell_type": "code",
      "metadata": {
        "id": "YE3hX_I8t7aT",
        "colab": {
          "base_uri": "https://localhost:8080/"
        },
        "outputId": "4555be03-2e62-4e45-8c51-463a6f28cbcb"
      },
      "source": [
        "dataloader_train = DataLoader(data_train, sampler = RandomSampler(data_train), batch_size = 16)\n",
        "print(\"dataloader_train len = \", len(dataloader_train))"
      ],
      "execution_count": null,
      "outputs": [
        {
          "output_type": "stream",
          "name": "stdout",
          "text": [
            "dataloader_train len =  1000\n"
          ]
        }
      ]
    },
    {
      "cell_type": "code",
      "metadata": {
        "id": "AiCYDKqh9EV3",
        "colab": {
          "base_uri": "https://localhost:8080/"
        },
        "outputId": "cb47a94e-78bb-4a86-903e-aff6d995c474"
      },
      "source": [
        "dataloader_dev = DataLoader(data_dev, sampler = RandomSampler(data_dev), batch_size = 32)\n",
        "print(\"dataloader_dev len = \", len(dataloader_dev))"
      ],
      "execution_count": null,
      "outputs": [
        {
          "output_type": "stream",
          "name": "stdout",
          "text": [
            "dataloader_dev len =  125\n"
          ]
        }
      ]
    },
    {
      "cell_type": "code",
      "metadata": {
        "id": "nQA47N_r__Ri"
      },
      "source": [
        "def f1_score_func(preds,labels):\n",
        "  preds_flat = np.argmax(preds,axis=1).flatten()\n",
        "  labels_flat = labels.flatten()\n",
        "  return f1_score(labels_flat,preds_flat,average = 'weighted')"
      ],
      "execution_count": null,
      "outputs": []
    },
    {
      "cell_type": "code",
      "metadata": {
        "id": "u_VgJp9iACPf"
      },
      "source": [
        "def accuracy(preds, labels):  \n",
        "  preds_flat = np.argmax(preds,axis=1).flatten()\n",
        "  labels_flat = labels.flatten()\n",
        "  \n",
        "  total = 0\n",
        "  correct = 0\n",
        "\n",
        "  for label in np.unique(labels_flat):\n",
        "    y_preds = preds_flat[labels_flat==label]\n",
        "    y_true = labels_flat[labels_flat==label]\n",
        "\n",
        "    total += len(y_true)\n",
        "    correct += len(y_preds[y_preds==label])\n",
        "  acc = correct/total\n",
        "  return acc"
      ],
      "execution_count": null,
      "outputs": []
    },
    {
      "cell_type": "markdown",
      "metadata": {
        "id": "0OmG3oEWwP6X"
      },
      "source": [
        "#### run the model"
      ]
    },
    {
      "cell_type": "code",
      "metadata": {
        "id": "5ri3iGYuvRvl"
      },
      "source": [
        "def sa_test(model, dataloader_val):\n",
        "  loss_val_total = 0\n",
        "  \n",
        "  for dev_data in dataloader_val:\n",
        "    data = tuple(d.to(device) for d in dev_data)\n",
        "    \n",
        "    inputs = {'input_ids':  data[0], 'attention_mask':data[1], 'labels': data[2]}\n",
        "    with torch.no_grad():\n",
        "      outputs = model(**inputs)\n",
        "        \n",
        "    loss = outputs[0]\n",
        "    loss_val_total += loss.item()\n",
        "      \n",
        "  loss_val_avg = loss_val_total/len(dataloader_val)  \n",
        "  \n",
        "  return loss_val_avg"
      ],
      "execution_count": null,
      "outputs": []
    },
    {
      "cell_type": "code",
      "metadata": {
        "id": "wQKLbKhqvWdc"
      },
      "source": [
        "def sa_train(model, train_dataloader, dev_dataloader, log = 100, epoch = 10):\n",
        "  print(\"Start training\")\n",
        "  train_iter = 0\n",
        "  train_loss_array = []\n",
        "  test_loss_array = []\n",
        "\n",
        "  model.to(device)\n",
        "  model.train()\n",
        "  \n",
        "  optimizer = AdamW(model.parameters(), lr = 1e-5, eps = 1e-8)\n",
        "  scheduler = get_linear_schedule_with_warmup(optimizer, num_warmup_steps = 0, num_training_steps = len(train_dataloader) * epochs) #Later use train_dl\n",
        "\n",
        "  for e in range(1, epoch+1):\n",
        "    running_loss = 0.0\n",
        "    train_loss = 0.0\n",
        "    train_iter = 0\n",
        "    \n",
        "    print('\\n======== Epoch {:} / {:} ========'.format(e, epochs))\n",
        "\n",
        "    for train_data in train_dataloader:\n",
        "      train_iter += 1\n",
        "      model.zero_grad()\n",
        "      data = tuple(t.to(device) for t in train_data)\n",
        "      \n",
        "      inputs = {\"input_ids\": data[0], \"attention_mask\": data[1], \"labels\": data[2]}\n",
        "      outputs = model(**inputs)\n",
        "      \n",
        "      loss = outputs[0]\n",
        "      loss.backward()\n",
        "      \n",
        "      torch.nn.utils.clip_grad_norm(model.parameters(), 1.0)\n",
        "      \n",
        "      optimizer.step()\n",
        "      scheduler.step()\n",
        "\n",
        "      train_loss += loss.item()\n",
        "      running_loss += loss.item()\n",
        "      \n",
        "      if train_iter % log == 0:\n",
        "        print('Batch {:>5,}  of  {:>5,} Loss: {:.5f}' .format(train_iter , len(train_dataloader), running_loss / log))\n",
        "        running_loss = 0.0 \n",
        "    \n",
        "    # calculate train loss for epoch\n",
        "    train_loss_calc = train_loss / len(train_dataloader)\n",
        "    train_loss_array.append(train_loss_calc)\n",
        "    print('\\n======== Epoch {:>3} Average Train Loss {:.5f} ========'.format(e, train_loss_calc))\n",
        "\n",
        "    model.eval()\n",
        "    dev_loss_calc = sa_test(model, dev_dataloader)\n",
        "    test_loss_array.append(dev_loss_calc)\n",
        "    print('\\n======== Epoch {:>3} Average Dev Loss {:.5f} ========\\n\\n'.format(e, dev_loss_calc))\n",
        "    model.train()\n",
        "  \n",
        "  print(\"Finish training\")\n",
        "  return model, train_loss_array, test_loss_array"
      ],
      "execution_count": null,
      "outputs": []
    },
    {
      "cell_type": "code",
      "metadata": {
        "id": "lYUQqTQLrY8x",
        "colab": {
          "base_uri": "https://localhost:8080/"
        },
        "outputId": "db997ce2-37c3-4d5e-f59e-d5b5b9212b3a"
      },
      "source": [
        "sa_trained_model ,sa_train_loss_calc, sa_dev_loss_calc = sa_train(sa_model, dataloader_train, dataloader_dev, log = 100, epoch = epochs)"
      ],
      "execution_count": null,
      "outputs": [
        {
          "output_type": "stream",
          "name": "stdout",
          "text": [
            "Start training\n",
            "\n",
            "======== Epoch 1 / 10 ========\n",
            "Batch   100  of  1,000 Loss: 7.35727\n",
            "Batch   200  of  1,000 Loss: 3.41132\n",
            "Batch   300  of  1,000 Loss: 1.27428\n",
            "Batch   400  of  1,000 Loss: 0.67937\n",
            "Batch   500  of  1,000 Loss: 0.51683\n",
            "Batch   600  of  1,000 Loss: 0.48875\n",
            "Batch   700  of  1,000 Loss: 0.44810\n",
            "Batch   800  of  1,000 Loss: 0.42447\n",
            "Batch   900  of  1,000 Loss: 0.43564\n",
            "Batch 1,000  of  1,000 Loss: 0.41530\n",
            "\n",
            "======== Epoch   1 Average Train Loss 1.54513 ========\n",
            "\n",
            "======== Epoch   1 Average Dev Loss 0.42540 ========\n",
            "\n",
            "\n",
            "\n",
            "======== Epoch 2 / 10 ========\n",
            "Batch   100  of  1,000 Loss: 0.33380\n",
            "Batch   200  of  1,000 Loss: 0.32401\n",
            "Batch   300  of  1,000 Loss: 0.33759\n",
            "Batch   400  of  1,000 Loss: 0.32033\n",
            "Batch   500  of  1,000 Loss: 0.32862\n",
            "Batch   600  of  1,000 Loss: 0.32210\n",
            "Batch   700  of  1,000 Loss: 0.34867\n",
            "Batch   800  of  1,000 Loss: 0.30750\n",
            "Batch   900  of  1,000 Loss: 0.31010\n",
            "Batch 1,000  of  1,000 Loss: 0.32023\n",
            "\n",
            "======== Epoch   2 Average Train Loss 0.32530 ========\n",
            "\n",
            "======== Epoch   2 Average Dev Loss 0.39799 ========\n",
            "\n",
            "\n",
            "\n",
            "======== Epoch 3 / 10 ========\n",
            "Batch   100  of  1,000 Loss: 0.21761\n",
            "Batch   200  of  1,000 Loss: 0.23879\n",
            "Batch   300  of  1,000 Loss: 0.22669\n",
            "Batch   400  of  1,000 Loss: 0.24944\n",
            "Batch   500  of  1,000 Loss: 0.24673\n",
            "Batch   600  of  1,000 Loss: 0.22938\n",
            "Batch   700  of  1,000 Loss: 0.25411\n",
            "Batch   800  of  1,000 Loss: 0.20842\n",
            "Batch   900  of  1,000 Loss: 0.24336\n",
            "Batch 1,000  of  1,000 Loss: 0.24829\n",
            "\n",
            "======== Epoch   3 Average Train Loss 0.23628 ========\n",
            "\n",
            "======== Epoch   3 Average Dev Loss 0.46262 ========\n",
            "\n",
            "\n",
            "\n",
            "======== Epoch 4 / 10 ========\n",
            "Batch   100  of  1,000 Loss: 0.16717\n",
            "Batch   200  of  1,000 Loss: 0.17370\n",
            "Batch   300  of  1,000 Loss: 0.17496\n",
            "Batch   400  of  1,000 Loss: 0.18001\n",
            "Batch   500  of  1,000 Loss: 0.17744\n",
            "Batch   600  of  1,000 Loss: 0.16862\n",
            "Batch   700  of  1,000 Loss: 0.15806\n",
            "Batch   800  of  1,000 Loss: 0.18774\n",
            "Batch   900  of  1,000 Loss: 0.19153\n",
            "Batch 1,000  of  1,000 Loss: 0.13868\n",
            "\n",
            "======== Epoch   4 Average Train Loss 0.17179 ========\n",
            "\n",
            "======== Epoch   4 Average Dev Loss 0.65823 ========\n",
            "\n",
            "\n",
            "\n",
            "======== Epoch 5 / 10 ========\n",
            "Batch   100  of  1,000 Loss: 0.13522\n",
            "Batch   200  of  1,000 Loss: 0.12460\n",
            "Batch   300  of  1,000 Loss: 0.10916\n",
            "Batch   400  of  1,000 Loss: 0.14569\n",
            "Batch   500  of  1,000 Loss: 0.12976\n",
            "Batch   600  of  1,000 Loss: 0.13059\n",
            "Batch   700  of  1,000 Loss: 0.12148\n",
            "Batch   800  of  1,000 Loss: 0.12505\n",
            "Batch   900  of  1,000 Loss: 0.15345\n",
            "Batch 1,000  of  1,000 Loss: 0.12120\n",
            "\n",
            "======== Epoch   5 Average Train Loss 0.12962 ========\n",
            "\n",
            "======== Epoch   5 Average Dev Loss 0.74157 ========\n",
            "\n",
            "\n",
            "\n",
            "======== Epoch 6 / 10 ========\n",
            "Batch   100  of  1,000 Loss: 0.10803\n",
            "Batch   200  of  1,000 Loss: 0.08873\n",
            "Batch   300  of  1,000 Loss: 0.09256\n",
            "Batch   400  of  1,000 Loss: 0.09855\n",
            "Batch   500  of  1,000 Loss: 0.12216\n",
            "Batch   600  of  1,000 Loss: 0.09436\n",
            "Batch   700  of  1,000 Loss: 0.08782\n",
            "Batch   800  of  1,000 Loss: 0.10658\n",
            "Batch   900  of  1,000 Loss: 0.07070\n",
            "Batch 1,000  of  1,000 Loss: 0.14313\n",
            "\n",
            "======== Epoch   6 Average Train Loss 0.10126 ========\n",
            "\n",
            "======== Epoch   6 Average Dev Loss 0.77259 ========\n",
            "\n",
            "\n",
            "\n",
            "======== Epoch 7 / 10 ========\n",
            "Batch   100  of  1,000 Loss: 0.07768\n",
            "Batch   200  of  1,000 Loss: 0.08746\n",
            "Batch   300  of  1,000 Loss: 0.07918\n",
            "Batch   400  of  1,000 Loss: 0.04373\n",
            "Batch   500  of  1,000 Loss: 0.09542\n",
            "Batch   600  of  1,000 Loss: 0.07743\n",
            "Batch   700  of  1,000 Loss: 0.07155\n",
            "Batch   800  of  1,000 Loss: 0.06828\n",
            "Batch   900  of  1,000 Loss: 0.07104\n",
            "Batch 1,000  of  1,000 Loss: 0.07772\n",
            "\n",
            "======== Epoch   7 Average Train Loss 0.07495 ========\n",
            "\n",
            "======== Epoch   7 Average Dev Loss 0.83923 ========\n",
            "\n",
            "\n",
            "\n",
            "======== Epoch 8 / 10 ========\n",
            "Batch   100  of  1,000 Loss: 0.05038\n",
            "Batch   200  of  1,000 Loss: 0.04780\n",
            "Batch   300  of  1,000 Loss: 0.06262\n",
            "Batch   400  of  1,000 Loss: 0.07391\n",
            "Batch   500  of  1,000 Loss: 0.05241\n",
            "Batch   600  of  1,000 Loss: 0.04385\n",
            "Batch   700  of  1,000 Loss: 0.05162\n",
            "Batch   800  of  1,000 Loss: 0.04921\n",
            "Batch   900  of  1,000 Loss: 0.08529\n",
            "Batch 1,000  of  1,000 Loss: 0.08234\n",
            "\n",
            "======== Epoch   8 Average Train Loss 0.05994 ========\n",
            "\n",
            "======== Epoch   8 Average Dev Loss 0.86453 ========\n",
            "\n",
            "\n",
            "\n",
            "======== Epoch 9 / 10 ========\n",
            "Batch   100  of  1,000 Loss: 0.04155\n",
            "Batch   200  of  1,000 Loss: 0.02501\n",
            "Batch   300  of  1,000 Loss: 0.05898\n",
            "Batch   400  of  1,000 Loss: 0.03847\n",
            "Batch   500  of  1,000 Loss: 0.04392\n",
            "Batch   600  of  1,000 Loss: 0.05891\n",
            "Batch   700  of  1,000 Loss: 0.03549\n",
            "Batch   800  of  1,000 Loss: 0.04648\n",
            "Batch   900  of  1,000 Loss: 0.06073\n",
            "Batch 1,000  of  1,000 Loss: 0.05062\n",
            "\n",
            "======== Epoch   9 Average Train Loss 0.04602 ========\n",
            "\n",
            "======== Epoch   9 Average Dev Loss 0.95090 ========\n",
            "\n",
            "\n",
            "\n",
            "======== Epoch 10 / 10 ========\n",
            "Batch   100  of  1,000 Loss: 0.04543\n",
            "Batch   200  of  1,000 Loss: 0.04282\n",
            "Batch   300  of  1,000 Loss: 0.03943\n",
            "Batch   400  of  1,000 Loss: 0.04758\n",
            "Batch   500  of  1,000 Loss: 0.04665\n",
            "Batch   600  of  1,000 Loss: 0.02882\n",
            "Batch   700  of  1,000 Loss: 0.05297\n",
            "Batch   800  of  1,000 Loss: 0.04000\n",
            "Batch   900  of  1,000 Loss: 0.03022\n",
            "Batch 1,000  of  1,000 Loss: 0.04765\n",
            "\n",
            "======== Epoch  10 Average Train Loss 0.04216 ========\n",
            "\n",
            "======== Epoch  10 Average Dev Loss 0.97515 ========\n",
            "\n",
            "\n",
            "Finish training\n"
          ]
        }
      ]
    },
    {
      "cell_type": "markdown",
      "metadata": {
        "id": "igt24Vihpn9Z"
      },
      "source": [
        "### **Eval**"
      ]
    },
    {
      "cell_type": "code",
      "metadata": {
        "id": "ckid-gpxAUBQ"
      },
      "source": [
        "def sa_eval(model ,dataloader_val):  \n",
        "  predictions, true_vals = [],[]\n",
        "  total = 0\n",
        "  correct = 0\n",
        "  for batch in dataloader_val:\n",
        "    total += 1\n",
        "    batch = tuple(b.to(device) for b in batch)\n",
        "    \n",
        "    inputs = {'input_ids':  batch[0], 'attention_mask':batch[1], 'labels': batch[2]}\n",
        "\n",
        "    with torch.no_grad():\n",
        "      outputs = model(**inputs)\n",
        "        \n",
        "    loss = outputs[0]\n",
        "    logits = outputs[1]\n",
        "    \n",
        "    logits = logits.detach().cpu().numpy()\n",
        "    label_ids = inputs['labels'].cpu().numpy()\n",
        "\n",
        "    predictions.append(logits)\n",
        "    true_vals.append(label_ids)\n",
        "\n",
        "  predictions = np.concatenate(predictions, axis=0)\n",
        "  true_vals = np.concatenate(true_vals, axis=0) \n",
        "\n",
        "  acc = accuracy(predictions, true_vals)\n",
        "  print('Accuracy of the network on the test images: {:.2f} %'.format(100*acc))\n",
        "\n",
        "  test_score = f1_score_func(predictions, true_vals)\n",
        "  print('\\nF1 score of the network on the test images: {:.2f}'.format(test_score))"
      ],
      "execution_count": null,
      "outputs": []
    },
    {
      "cell_type": "code",
      "metadata": {
        "id": "36WjmrkBJGuG",
        "colab": {
          "base_uri": "https://localhost:8080/"
        },
        "outputId": "8b31932d-1c9a-4aaa-8917-d594c279f4a5"
      },
      "source": [
        "sa_eval(sa_trained_model ,dataloader_dev)"
      ],
      "execution_count": null,
      "outputs": [
        {
          "output_type": "stream",
          "name": "stdout",
          "text": [
            "Accuracy of the network on the test images: 83.35 %\n",
            "\n",
            "F1 score of the network on the test images: 0.83\n"
          ]
        }
      ]
    },
    {
      "cell_type": "markdown",
      "metadata": {
        "id": "C83lc-NFUrkf"
      },
      "source": [
        "### **Plot - SA Model**"
      ]
    },
    {
      "cell_type": "code",
      "metadata": {
        "id": "j8Pek2_FO2lH",
        "colab": {
          "base_uri": "https://localhost:8080/",
          "height": 463
        },
        "outputId": "78d929aa-23c1-4443-f178-98201acdd655"
      },
      "source": [
        "create_plot_one_array(sa_train_loss_calc, 'Train Loss' , 'Epochs', 'Loss', 'Loss Vs. Epochs', epoch = epochs)"
      ],
      "execution_count": null,
      "outputs": [
        {
          "output_type": "display_data",
          "data": {
            "image/png": "[encoded data removed]",
            "text/plain": [
              "<Figure size 1080x504 with 1 Axes>"
            ]
          },
          "metadata": {
            "needs_background": "light"
          }
        }
      ]
    },
    {
      "cell_type": "markdown",
      "metadata": {
        "id": "wTiM1Uv8VOl_"
      },
      "source": [
        "### **Plot - QA Model VS SA Model**"
      ]
    },
    {
      "cell_type": "code",
      "metadata": {
        "id": "osYbdjX_VAAK",
        "colab": {
          "base_uri": "https://localhost:8080/",
          "height": 463
        },
        "outputId": "a470a8ef-9388-4e32-c143-5a0bd83ad416"
      },
      "source": [
        "create_plot(qa_train_loss_calc, sa_train_loss_calc, 'Train Loss QA', 'Train Loss SA', 'Epochs', 'Loss', 'Loss Vs. Epochs', epoch = epochs)"
      ],
      "execution_count": null,
      "outputs": [
        {
          "output_type": "display_data",
          "data": {
            "image/png": "[encoded data removed]",
            "text/plain": [
              "<Figure size 1080x504 with 1 Axes>"
            ]
          },
          "metadata": {
            "needs_background": "light"
          }
        }
      ]
    }
  ]
}